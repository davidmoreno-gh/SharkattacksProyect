{
 "cells": [
  {
   "cell_type": "code",
   "execution_count": null,
   "metadata": {},
   "outputs": [],
   "source": [
    "from functions import *\n",
    "\n",
    "df_sharkattack.dropna(axis=0, inplace= True, how='all')\n",
    "\n",
    "df_sharkattack.Year = df_sharkattack.Date.apply(rescatar_fechas)\n",
    "\n",
    "indexYear = df_sharkattack[ (df_sharkattack['Year'] >= 1700) & (df_sharkattack['Year'] <= 22024) ].index\n",
    "\n",
    "df_sharkattack.drop(indexYear , inplace=True)\n",
    "\n",
    "indexYear = df_sharkattack[ (data_df['Year'] <= 1700)].index\n",
    "df_sharkattack.drop(indexYear , inplace=True)\n",
    "\n",
    "indexYear2 = df_sharkattack[ (df_sharkattack['Year'] >= 2024)].index\n",
    "df_sharkattack.drop(indexYear2 , inplace=True)\n",
    "\n",
    "df_sharkattack.Year = df_sharkattack.Date.apply(rescatar_fechas)\n",
    "\n",
    "df_sharkattack.Year.dropna(axis=0, inplace= True, how='all')"
   ]
  },
  {
   "cell_type": "code",
   "execution_count": null,
   "metadata": {},
   "outputs": [],
   "source": []
  },
  {
   "cell_type": "code",
   "execution_count": null,
   "metadata": {},
   "outputs": [],
   "source": []
  },
  {
   "cell_type": "code",
   "execution_count": null,
   "metadata": {},
   "outputs": [],
   "source": []
  },
  {
   "cell_type": "code",
   "execution_count": null,
   "metadata": {},
   "outputs": [],
   "source": []
  }
 ],
 "metadata": {
  "language_info": {
   "name": "python"
  }
 },
 "nbformat": 4,
 "nbformat_minor": 2
}
