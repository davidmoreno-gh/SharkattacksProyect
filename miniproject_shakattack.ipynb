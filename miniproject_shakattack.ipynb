{
 "cells": [
  {
   "cell_type": "code",
   "execution_count": 3,
   "metadata": {},
   "outputs": [
    {
     "name": "stdout",
     "output_type": "stream",
     "text": [
      "Requirement already satisfied: pandas in c:\\users\\anano\\anaconda3\\lib\\site-packages (2.2.2)\n",
      "Requirement already satisfied: xlrd in c:\\users\\anano\\anaconda3\\lib\\site-packages (2.0.1)\n",
      "Requirement already satisfied: numpy>=1.26.0 in c:\\users\\anano\\anaconda3\\lib\\site-packages (from pandas) (1.26.4)\n",
      "Requirement already satisfied: python-dateutil>=2.8.2 in c:\\users\\anano\\anaconda3\\lib\\site-packages (from pandas) (2.9.0.post0)\n",
      "Requirement already satisfied: pytz>=2020.1 in c:\\users\\anano\\anaconda3\\lib\\site-packages (from pandas) (2024.1)\n",
      "Requirement already satisfied: tzdata>=2022.7 in c:\\users\\anano\\anaconda3\\lib\\site-packages (from pandas) (2023.3)\n",
      "Requirement already satisfied: six>=1.5 in c:\\users\\anano\\anaconda3\\lib\\site-packages (from python-dateutil>=2.8.2->pandas) (1.16.0)\n",
      "Note: you may need to restart the kernel to use updated packages.\n"
     ]
    }
   ],
   "source": [
    "pip install pandas xlrd"
   ]
  },
  {
   "cell_type": "code",
   "execution_count": 1,
   "metadata": {},
   "outputs": [
    {
     "name": "stdout",
     "output_type": "stream",
     "text": [
      "          Date    Year        Type    Country              State  \\\n",
      "0  15 Mar 2024  2024.0  Unprovoked  AUSTRALIA         Queensland   \n",
      "1  04 Mar 2024  2024.0  Unprovoked        USA             Hawaii   \n",
      "2  02 Mar-2024  2024.0  Unprovoked        USA             Hawaii   \n",
      "3  25 Feb-2024  2024.0  Unprovoked  AUSTRALIA  Western Australia   \n",
      "4  14 Feb-2024  2024.0  Unprovoked      INDIA        Maharashtra   \n",
      "\n",
      "                           Location  Activity                 Name Sex  Age  \\\n",
      "0                     Bargara Beach  Swimming       Brooklyn Sauer   F   13   \n",
      "1                Old Man's, Waikiki   Surfing        Matthew White   M  NaN   \n",
      "2                    Rainbows, Oahu  Swimming                  NaN   F   11   \n",
      "3        Sandlnd Island, Jurian Bay       NaN               female   F   46   \n",
      "4  Vaitarna River, Palghar District   Fishing  Vicky Suresh Govari   M   32   \n",
      "\n",
      "   ...        Species                      Source  pdf href formula href  \\\n",
      "0  ...     Tiger shark      Yahoo News, 3/15/2024  NaN          NaN  NaN   \n",
      "1  ...  Tiger shark 8'          Surfer, 3/6/2024F  NaN          NaN  NaN   \n",
      "2  ...  3' to 4' shark  Hawaii News Now, 3/4/2024  NaN          NaN  NaN   \n",
      "3  ...     Tiger shark        WA Today, 2/26/2024  NaN          NaN  NaN   \n",
      "4  ...  Bull shark, 7'  Times of India, 2/14/2024  NaN          NaN  NaN   \n",
      "\n",
      "  Case Number Case Number.1 original order Unnamed: 21 Unnamed: 22  \n",
      "0         NaN           NaN            NaN         NaN         NaN  \n",
      "1         NaN           NaN            NaN         NaN         NaN  \n",
      "2         NaN           NaN            NaN         NaN         NaN  \n",
      "3         NaN           NaN            NaN         NaN         NaN  \n",
      "4         NaN           NaN            NaN         NaN         NaN  \n",
      "\n",
      "[5 rows x 23 columns]\n"
     ]
    }
   ],
   "source": [
    "import pandas as pd\n",
    "\n",
    "df = pd.read_excel('https://www.sharkattackfile.net/spreadsheets/GSAF5.xls')\n",
    "print(df.head())"
   ]
  }
 ],
 "metadata": {
  "kernelspec": {
   "display_name": "base",
   "language": "python",
   "name": "python3"
  },
  "language_info": {
   "codemirror_mode": {
    "name": "ipython",
    "version": 3
   },
   "file_extension": ".py",
   "mimetype": "text/x-python",
   "name": "python",
   "nbconvert_exporter": "python",
   "pygments_lexer": "ipython3",
   "version": "3.12.4"
  }
 },
 "nbformat": 4,
 "nbformat_minor": 2
}
