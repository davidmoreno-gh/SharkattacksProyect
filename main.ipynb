{
 "cells": [
  {
   "cell_type": "markdown",
   "metadata": {},
   "source": [
    "# 0. IMPORTACIONES"
   ]
  },
  {
   "cell_type": "code",
   "execution_count": 1,
   "metadata": {},
   "outputs": [],
   "source": [
    "# pip install pandas xlrd "
   ]
  },
  {
   "cell_type": "markdown",
   "metadata": {},
   "source": [
    "Import the libraries"
   ]
  },
  {
   "cell_type": "code",
   "execution_count": 99,
   "metadata": {},
   "outputs": [],
   "source": [
    "import pandas as pd                 # Pandas para dataframes\n",
    "import numpy as np                  # Numpy para trabajar matrices\n",
    "import re                           # Regex para trabajar patrones\n",
    "from src.functions import * \n",
    "import matplotlib.pyplot as plot    # matplotlib para trabajar con gráficos."
   ]
  },
  {
   "cell_type": "markdown",
   "metadata": {},
   "source": [
    "Load the document xls"
   ]
  },
  {
   "cell_type": "code",
   "execution_count": 117,
   "metadata": {},
   "outputs": [],
   "source": [
    "url = 'https://www.sharkattackfile.net/spreadsheets/GSAF5.xls'\n",
    "\n",
    "df_sharks = pd.read_excel(url)"
   ]
  },
  {
   "cell_type": "markdown",
   "metadata": {},
   "source": [
    "# 1. Data Recognizing\n",
    "Vamos a realizar un primer vistazo a los datos para ver a qué nos enfrentamos. "
   ]
  },
  {
   "cell_type": "code",
   "execution_count": 4,
   "metadata": {},
   "outputs": [
    {
     "data": {
      "text/html": [
       "<div>\n",
       "<style scoped>\n",
       "    .dataframe tbody tr th:only-of-type {\n",
       "        vertical-align: middle;\n",
       "    }\n",
       "\n",
       "    .dataframe tbody tr th {\n",
       "        vertical-align: top;\n",
       "    }\n",
       "\n",
       "    .dataframe thead th {\n",
       "        text-align: right;\n",
       "    }\n",
       "</style>\n",
       "<table border=\"1\" class=\"dataframe\">\n",
       "  <thead>\n",
       "    <tr style=\"text-align: right;\">\n",
       "      <th></th>\n",
       "      <th>Date</th>\n",
       "      <th>Year</th>\n",
       "      <th>Type</th>\n",
       "      <th>Country</th>\n",
       "      <th>State</th>\n",
       "      <th>Location</th>\n",
       "      <th>Activity</th>\n",
       "      <th>Name</th>\n",
       "      <th>Sex</th>\n",
       "      <th>Age</th>\n",
       "      <th>...</th>\n",
       "      <th>Species</th>\n",
       "      <th>Source</th>\n",
       "      <th>pdf</th>\n",
       "      <th>href formula</th>\n",
       "      <th>href</th>\n",
       "      <th>Case Number</th>\n",
       "      <th>Case Number.1</th>\n",
       "      <th>original order</th>\n",
       "      <th>Unnamed: 21</th>\n",
       "      <th>Unnamed: 22</th>\n",
       "    </tr>\n",
       "  </thead>\n",
       "  <tbody>\n",
       "    <tr>\n",
       "      <th>0</th>\n",
       "      <td>15 Mar 2024</td>\n",
       "      <td>2024.0</td>\n",
       "      <td>Unprovoked</td>\n",
       "      <td>AUSTRALIA</td>\n",
       "      <td>Queensland</td>\n",
       "      <td>Bargara Beach</td>\n",
       "      <td>Swimming</td>\n",
       "      <td>Brooklyn Sauer</td>\n",
       "      <td>F</td>\n",
       "      <td>13</td>\n",
       "      <td>...</td>\n",
       "      <td>Tiger shark</td>\n",
       "      <td>Yahoo News, 3/15/2024</td>\n",
       "      <td>NaN</td>\n",
       "      <td>NaN</td>\n",
       "      <td>NaN</td>\n",
       "      <td>NaN</td>\n",
       "      <td>NaN</td>\n",
       "      <td>NaN</td>\n",
       "      <td>NaN</td>\n",
       "      <td>NaN</td>\n",
       "    </tr>\n",
       "    <tr>\n",
       "      <th>1</th>\n",
       "      <td>04 Mar 2024</td>\n",
       "      <td>2024.0</td>\n",
       "      <td>Unprovoked</td>\n",
       "      <td>USA</td>\n",
       "      <td>Hawaii</td>\n",
       "      <td>Old Man's, Waikiki</td>\n",
       "      <td>Surfing</td>\n",
       "      <td>Matthew White</td>\n",
       "      <td>M</td>\n",
       "      <td>NaN</td>\n",
       "      <td>...</td>\n",
       "      <td>Tiger shark 8'</td>\n",
       "      <td>Surfer, 3/6/2024F</td>\n",
       "      <td>NaN</td>\n",
       "      <td>NaN</td>\n",
       "      <td>NaN</td>\n",
       "      <td>NaN</td>\n",
       "      <td>NaN</td>\n",
       "      <td>NaN</td>\n",
       "      <td>NaN</td>\n",
       "      <td>NaN</td>\n",
       "    </tr>\n",
       "    <tr>\n",
       "      <th>2</th>\n",
       "      <td>02 Mar-2024</td>\n",
       "      <td>2024.0</td>\n",
       "      <td>Unprovoked</td>\n",
       "      <td>USA</td>\n",
       "      <td>Hawaii</td>\n",
       "      <td>Rainbows, Oahu</td>\n",
       "      <td>Swimming</td>\n",
       "      <td>NaN</td>\n",
       "      <td>F</td>\n",
       "      <td>11</td>\n",
       "      <td>...</td>\n",
       "      <td>3' to 4' shark</td>\n",
       "      <td>Hawaii News Now, 3/4/2024</td>\n",
       "      <td>NaN</td>\n",
       "      <td>NaN</td>\n",
       "      <td>NaN</td>\n",
       "      <td>NaN</td>\n",
       "      <td>NaN</td>\n",
       "      <td>NaN</td>\n",
       "      <td>NaN</td>\n",
       "      <td>NaN</td>\n",
       "    </tr>\n",
       "    <tr>\n",
       "      <th>3</th>\n",
       "      <td>25 Feb-2024</td>\n",
       "      <td>2024.0</td>\n",
       "      <td>Unprovoked</td>\n",
       "      <td>AUSTRALIA</td>\n",
       "      <td>Western Australia</td>\n",
       "      <td>Sandlnd Island, Jurian Bay</td>\n",
       "      <td>NaN</td>\n",
       "      <td>female</td>\n",
       "      <td>F</td>\n",
       "      <td>46</td>\n",
       "      <td>...</td>\n",
       "      <td>Tiger shark</td>\n",
       "      <td>WA Today, 2/26/2024</td>\n",
       "      <td>NaN</td>\n",
       "      <td>NaN</td>\n",
       "      <td>NaN</td>\n",
       "      <td>NaN</td>\n",
       "      <td>NaN</td>\n",
       "      <td>NaN</td>\n",
       "      <td>NaN</td>\n",
       "      <td>NaN</td>\n",
       "    </tr>\n",
       "    <tr>\n",
       "      <th>4</th>\n",
       "      <td>14 Feb-2024</td>\n",
       "      <td>2024.0</td>\n",
       "      <td>Unprovoked</td>\n",
       "      <td>INDIA</td>\n",
       "      <td>Maharashtra</td>\n",
       "      <td>Vaitarna River, Palghar District</td>\n",
       "      <td>Fishing</td>\n",
       "      <td>Vicky Suresh Govari</td>\n",
       "      <td>M</td>\n",
       "      <td>32</td>\n",
       "      <td>...</td>\n",
       "      <td>Bull shark, 7'</td>\n",
       "      <td>Times of India, 2/14/2024</td>\n",
       "      <td>NaN</td>\n",
       "      <td>NaN</td>\n",
       "      <td>NaN</td>\n",
       "      <td>NaN</td>\n",
       "      <td>NaN</td>\n",
       "      <td>NaN</td>\n",
       "      <td>NaN</td>\n",
       "      <td>NaN</td>\n",
       "    </tr>\n",
       "  </tbody>\n",
       "</table>\n",
       "<p>5 rows × 23 columns</p>\n",
       "</div>"
      ],
      "text/plain": [
       "          Date    Year        Type    Country              State  \\\n",
       "0  15 Mar 2024  2024.0  Unprovoked  AUSTRALIA         Queensland   \n",
       "1  04 Mar 2024  2024.0  Unprovoked        USA             Hawaii   \n",
       "2  02 Mar-2024  2024.0  Unprovoked        USA             Hawaii   \n",
       "3  25 Feb-2024  2024.0  Unprovoked  AUSTRALIA  Western Australia   \n",
       "4  14 Feb-2024  2024.0  Unprovoked      INDIA        Maharashtra   \n",
       "\n",
       "                           Location  Activity                 Name Sex  Age  \\\n",
       "0                     Bargara Beach  Swimming       Brooklyn Sauer   F   13   \n",
       "1                Old Man's, Waikiki   Surfing        Matthew White   M  NaN   \n",
       "2                    Rainbows, Oahu  Swimming                  NaN   F   11   \n",
       "3        Sandlnd Island, Jurian Bay       NaN               female   F   46   \n",
       "4  Vaitarna River, Palghar District   Fishing  Vicky Suresh Govari   M   32   \n",
       "\n",
       "   ...        Species                      Source  pdf href formula href  \\\n",
       "0  ...     Tiger shark      Yahoo News, 3/15/2024  NaN          NaN  NaN   \n",
       "1  ...  Tiger shark 8'          Surfer, 3/6/2024F  NaN          NaN  NaN   \n",
       "2  ...  3' to 4' shark  Hawaii News Now, 3/4/2024  NaN          NaN  NaN   \n",
       "3  ...     Tiger shark        WA Today, 2/26/2024  NaN          NaN  NaN   \n",
       "4  ...  Bull shark, 7'  Times of India, 2/14/2024  NaN          NaN  NaN   \n",
       "\n",
       "  Case Number Case Number.1 original order Unnamed: 21 Unnamed: 22  \n",
       "0         NaN           NaN            NaN         NaN         NaN  \n",
       "1         NaN           NaN            NaN         NaN         NaN  \n",
       "2         NaN           NaN            NaN         NaN         NaN  \n",
       "3         NaN           NaN            NaN         NaN         NaN  \n",
       "4         NaN           NaN            NaN         NaN         NaN  \n",
       "\n",
       "[5 rows x 23 columns]"
      ]
     },
     "execution_count": 4,
     "metadata": {},
     "output_type": "execute_result"
    }
   ],
   "source": [
    "data.head(5)"
   ]
  },
  {
   "cell_type": "code",
   "execution_count": 5,
   "metadata": {},
   "outputs": [
    {
     "name": "stdout",
     "output_type": "stream",
     "text": [
      "Index(['Date', 'Year', 'Type', 'Country', 'State', 'Location', 'Activity',\n",
      "       'Name', 'Sex', 'Age', 'Injury', 'Unnamed: 11', 'Time', 'Species ',\n",
      "       'Source', 'pdf', 'href formula', 'href', 'Case Number', 'Case Number.1',\n",
      "       'original order', 'Unnamed: 21', 'Unnamed: 22'],\n",
      "      dtype='object')\n",
      "(6969, 23)\n",
      "160287\n"
     ]
    }
   ],
   "source": [
    "print(data.columns) # Obtenemos los nombres de las columnas\n",
    "print(data.shape )  # La tabla de datos tiene 6969 filas x 23 columnas\n",
    "print(data.size)    # La tabla tiene un total de 160287 datos"
   ]
  },
  {
   "cell_type": "markdown",
   "metadata": {},
   "source": [
    "Vamos a echar un vistazo a los objetos nulos que posee la tabla para ver cuántos agujeros tiene este queso de Gruyere"
   ]
  },
  {
   "cell_type": "code",
   "execution_count": 6,
   "metadata": {},
   "outputs": [
    {
     "name": "stdout",
     "output_type": "stream",
     "text": [
      "<class 'pandas.core.frame.DataFrame'>\n",
      "RangeIndex: 6969 entries, 0 to 6968\n",
      "Data columns (total 23 columns):\n",
      " #   Column          Non-Null Count  Dtype  \n",
      "---  ------          --------------  -----  \n",
      " 0   Date            6944 non-null   object \n",
      " 1   Year            6942 non-null   float64\n",
      " 2   Type            6926 non-null   object \n",
      " 3   Country         6894 non-null   object \n",
      " 4   State           6462 non-null   object \n",
      " 5   Location        6379 non-null   object \n",
      " 6   Activity        6358 non-null   object \n",
      " 7   Name            6724 non-null   object \n",
      " 8   Sex             6365 non-null   object \n",
      " 9   Age             3950 non-null   object \n",
      " 10  Injury          6909 non-null   object \n",
      " 11  Unnamed: 11     6382 non-null   object \n",
      " 12  Time            3418 non-null   object \n",
      " 13  Species         3812 non-null   object \n",
      " 14  Source          6925 non-null   object \n",
      " 15  pdf             6799 non-null   object \n",
      " 16  href formula    6819 non-null   object \n",
      " 17  href            6796 non-null   object \n",
      " 18  Case Number     6798 non-null   object \n",
      " 19  Case Number.1   6797 non-null   object \n",
      " 20  original order  6799 non-null   float64\n",
      " 21  Unnamed: 21     1 non-null      object \n",
      " 22  Unnamed: 22     2 non-null      object \n",
      "dtypes: float64(2), object(21)\n",
      "memory usage: 1.2+ MB\n"
     ]
    }
   ],
   "source": [
    "data.info() # Nos muestra tanto el tipo de dato por columna como los datos no nulos."
   ]
  },
  {
   "cell_type": "code",
   "execution_count": 7,
   "metadata": {},
   "outputs": [
    {
     "data": {
      "text/plain": [
       "Date                25\n",
       "Year                27\n",
       "Type                43\n",
       "Country             75\n",
       "State              507\n",
       "Location           590\n",
       "Activity           611\n",
       "Name               245\n",
       "Sex                604\n",
       "Age               3019\n",
       "Injury              60\n",
       "Unnamed: 11        587\n",
       "Time              3551\n",
       "Species           3157\n",
       "Source              44\n",
       "pdf                170\n",
       "href formula       150\n",
       "href               173\n",
       "Case Number        171\n",
       "Case Number.1      172\n",
       "original order     170\n",
       "Unnamed: 21       6968\n",
       "Unnamed: 22       6967\n",
       "dtype: int64"
      ]
     },
     "execution_count": 7,
     "metadata": {},
     "output_type": "execute_result"
    }
   ],
   "source": [
    "data.isnull().sum() # Muestra la suma de valores nulos por columna"
   ]
  },
  {
   "cell_type": "markdown",
   "metadata": {},
   "source": [
    "# 2. Data Cleaning"
   ]
  },
  {
   "cell_type": "markdown",
   "metadata": {},
   "source": [
    "## 2.1 Cleaning columns and rows"
   ]
  },
  {
   "cell_type": "code",
   "execution_count": 118,
   "metadata": {},
   "outputs": [
    {
     "data": {
      "text/plain": [
       "sex\n",
       "M    3134\n",
       "F     618\n",
       "Name: count, dtype: int64"
      ]
     },
     "execution_count": 118,
     "metadata": {},
     "output_type": "execute_result"
    }
   ],
   "source": [
    "# We use the clean_labels function for put the names in lower case and replace spaces, dots and colons\n",
    "df_sharks = clean_labels(df_sharks)\n",
    "\n",
    "# We drop the rows that the year are too old\n",
    "df_sharks = clean_rows(df_sharks)\n",
    "\n",
    "# Drop the columns that are empty or it doesn't say nothing important\n",
    "cols_to_drop = ['date','type','name','injury','time','species','source','pdf', 'href_formula', 'href', 'case_number', 'case_number_1', 'original_order','unnamed_21','unnamed_22']\n",
    "df_sharks = drop_cols(df_sharks, cols_to_drop)\n",
    "\n",
    "# Put the names of the sex in the same name\n",
    "df_sharks = clean_sex(df_sharks)\n",
    "df_sharks['sex'].value_counts()"
   ]
  },
  {
   "cell_type": "code",
   "execution_count": 119,
   "metadata": {},
   "outputs": [
    {
     "data": {
      "text/plain": [
       "249"
      ]
     },
     "execution_count": 119,
     "metadata": {},
     "output_type": "execute_result"
    }
   ],
   "source": [
    "df_sharks['sex'].isna().sum()"
   ]
  },
  {
   "cell_type": "code",
   "execution_count": 120,
   "metadata": {},
   "outputs": [
    {
     "data": {
      "text/html": [
       "<div>\n",
       "<style scoped>\n",
       "    .dataframe tbody tr th:only-of-type {\n",
       "        vertical-align: middle;\n",
       "    }\n",
       "\n",
       "    .dataframe tbody tr th {\n",
       "        vertical-align: top;\n",
       "    }\n",
       "\n",
       "    .dataframe thead th {\n",
       "        text-align: right;\n",
       "    }\n",
       "</style>\n",
       "<table border=\"1\" class=\"dataframe\">\n",
       "  <thead>\n",
       "    <tr style=\"text-align: right;\">\n",
       "      <th></th>\n",
       "      <th>year</th>\n",
       "      <th>country</th>\n",
       "      <th>state</th>\n",
       "      <th>location</th>\n",
       "      <th>activity</th>\n",
       "      <th>sex</th>\n",
       "      <th>age</th>\n",
       "      <th>death</th>\n",
       "    </tr>\n",
       "  </thead>\n",
       "  <tbody>\n",
       "    <tr>\n",
       "      <th>0</th>\n",
       "      <td>2024.0</td>\n",
       "      <td>AUSTRALIA</td>\n",
       "      <td>Queensland</td>\n",
       "      <td>Bargara Beach</td>\n",
       "      <td>Swimming</td>\n",
       "      <td>F</td>\n",
       "      <td>13</td>\n",
       "      <td>NaN</td>\n",
       "    </tr>\n",
       "    <tr>\n",
       "      <th>1</th>\n",
       "      <td>2024.0</td>\n",
       "      <td>USA</td>\n",
       "      <td>Hawaii</td>\n",
       "      <td>Old Man's, Waikiki</td>\n",
       "      <td>Surfing</td>\n",
       "      <td>M</td>\n",
       "      <td>NaN</td>\n",
       "      <td>N</td>\n",
       "    </tr>\n",
       "  </tbody>\n",
       "</table>\n",
       "</div>"
      ],
      "text/plain": [
       "     year    country       state            location  activity sex  age death\n",
       "0  2024.0  AUSTRALIA  Queensland       Bargara Beach  Swimming   F   13   NaN\n",
       "1  2024.0        USA      Hawaii  Old Man's, Waikiki   Surfing   M  NaN     N"
      ]
     },
     "execution_count": 120,
     "metadata": {},
     "output_type": "execute_result"
    }
   ],
   "source": [
    "# Show the new DataFrame\n",
    "df_sharks.head(2)"
   ]
  },
  {
   "cell_type": "markdown",
   "metadata": {},
   "source": [
    "## 2.2 Null Values"
   ]
  },
  {
   "cell_type": "code",
   "execution_count": 125,
   "metadata": {},
   "outputs": [],
   "source": [
    "df_sharks['sex'] = df_sharks['sex'].fillna(df_sharks['sex'].mode()[0])"
   ]
  },
  {
   "cell_type": "code",
   "execution_count": 111,
   "metadata": {},
   "outputs": [
    {
     "name": "stderr",
     "output_type": "stream",
     "text": [
      "C:\\Users\\Lidia Mayor\\AppData\\Local\\Temp\\ipykernel_28872\\822601363.py:1: FutureWarning: A value is trying to be set on a copy of a DataFrame or Series through chained assignment using an inplace method.\n",
      "The behavior will change in pandas 3.0. This inplace method will never work because the intermediate object on which we are setting values always behaves as a copy.\n",
      "\n",
      "For example, when doing 'df[col].method(value, inplace=True)', try using 'df.method({col: value}, inplace=True)' or df[col] = df[col].method(value) instead, to perform the operation inplace on the original object.\n",
      "\n",
      "\n",
      "  df_sharks['year'].fillna(method = 'bfill', inplace=True) # Reemplazamos NaN por el anterior\n",
      "C:\\Users\\Lidia Mayor\\AppData\\Local\\Temp\\ipykernel_28872\\822601363.py:1: FutureWarning: Series.fillna with 'method' is deprecated and will raise in a future version. Use obj.ffill() or obj.bfill() instead.\n",
      "  df_sharks['year'].fillna(method = 'bfill', inplace=True) # Reemplazamos NaN por el anterior\n"
     ]
    }
   ],
   "source": [
    "df_sharks['year'].fillna(method = 'bfill', inplace=True)"
   ]
  },
  {
   "cell_type": "markdown",
   "metadata": {},
   "source": [
    "## 2.3 Filtering "
   ]
  },
  {
   "cell_type": "code",
   "execution_count": 129,
   "metadata": {},
   "outputs": [],
   "source": [
    "df_country = clean_country(df_sharks, 15)"
   ]
  },
  {
   "cell_type": "code",
   "execution_count": 131,
   "metadata": {},
   "outputs": [
    {
     "data": {
      "text/plain": [
       "country\n",
       "USA                 1891\n",
       "AUSTRALIA            711\n",
       "SOUTH AFRICA         380\n",
       "BRAZIL               113\n",
       "BAHAMAS              108\n",
       "NEW ZEALAND           72\n",
       "NEW CALEDONIA         56\n",
       "REUNION               56\n",
       "MEXICO                52\n",
       "EGYPT                 35\n",
       "FRENCH POLYNESIA      30\n",
       "FIJI                  24\n",
       "SPAIN                 22\n",
       "JAPAN                 21\n",
       "ITALY                 21\n",
       "HONG KONG             21\n",
       "MOZAMBIQUE            19\n",
       "PHILIPPINES           17\n",
       "Name: count, dtype: int64"
      ]
     },
     "execution_count": 131,
     "metadata": {},
     "output_type": "execute_result"
    }
   ],
   "source": [
    "df_country['country'].value_counts()"
   ]
  },
  {
   "cell_type": "code",
   "execution_count": 132,
   "metadata": {},
   "outputs": [
    {
     "data": {
      "text/plain": [
       "state\n",
       "Florida                  980\n",
       "Hawaii                   250\n",
       "California               237\n",
       "New South Wales          228\n",
       "Queensland               170\n",
       "Western Australia        159\n",
       "Western Cape Province    139\n",
       "Eastern Cape Province    126\n",
       "South Carolina           119\n",
       "KwaZulu-Natal            102\n",
       "North Carolina            97\n",
       "Pernambuco                79\n",
       "South Australia           62\n",
       "Texas                     50\n",
       "Victoria                  45\n",
       "North Island              33\n",
       "Oregon                    31\n",
       "Abaco Islands             27\n",
       "South Island              23\n",
       "Tasmania                  20\n",
       "New York                  18\n",
       "South Province            16\n",
       "Alabama                   13\n",
       "Quintana Roo              12\n",
       "Guerrero                  12\n",
       "Louisiana                 12\n",
       "New Jersey                10\n",
       "North Province            10\n",
       "Grand Bahama Island       10\n",
       "Rio de Janeiro            10\n",
       "Virginia                  10\n",
       "Massachusetts              9\n",
       "Gaza                       9\n",
       "Georgia                    8\n",
       "Northern Territory         8\n",
       "Mirs Bay                   7\n",
       "South Sinai Peninsula      7\n",
       "Loyalty Islands            7\n",
       "Ehime Prefecture           6\n",
       "Tyrrhenian Sea             6\n",
       "Society Islands            6\n",
       "Name: count, dtype: int64"
      ]
     },
     "execution_count": 132,
     "metadata": {},
     "output_type": "execute_result"
    }
   ],
   "source": [
    "df_state=clean_state(df_country, 5)\n",
    "df_state['state'].value_counts()"
   ]
  },
  {
   "cell_type": "code",
   "execution_count": 133,
   "metadata": {},
   "outputs": [
    {
     "data": {
      "text/plain": [
       "state\n",
       "Florida                  980\n",
       "Hawaii                   250\n",
       "California               237\n",
       "New South Wales          228\n",
       "Queensland               170\n",
       "Western Australia        159\n",
       "Western Cape Province    139\n",
       "Eastern Cape Province    126\n",
       "South Carolina           119\n",
       "KwaZulu-Natal            102\n",
       "North Carolina            97\n",
       "Pernambuco                79\n",
       "South Australia           62\n",
       "Texas                     50\n",
       "Victoria                  45\n",
       "North Island              33\n",
       "Oregon                    31\n",
       "Abaco Islands             27\n",
       "South Island              23\n",
       "Tasmania                  20\n",
       "New York                  18\n",
       "South Province            16\n",
       "Alabama                   13\n",
       "Quintana Roo              12\n",
       "Guerrero                  12\n",
       "Louisiana                 12\n",
       "New Jersey                10\n",
       "North Province            10\n",
       "Grand Bahama Island       10\n",
       "Rio de Janeiro            10\n",
       "Virginia                  10\n",
       "Massachusetts              9\n",
       "Gaza                       9\n",
       "Georgia                    8\n",
       "Northern Territory         8\n",
       "Mirs Bay                   7\n",
       "South Sinai Peninsula      7\n",
       "Loyalty Islands            7\n",
       "Ehime Prefecture           6\n",
       "Tyrrhenian Sea             6\n",
       "Society Islands            6\n",
       "Name: count, dtype: int64"
      ]
     },
     "execution_count": 133,
     "metadata": {},
     "output_type": "execute_result"
    }
   ],
   "source": [
    "df_state['state'].value_counts()"
   ]
  },
  {
   "cell_type": "code",
   "execution_count": 134,
   "metadata": {},
   "outputs": [
    {
     "name": "stdout",
     "output_type": "stream",
     "text": [
      "18\n"
     ]
    },
    {
     "data": {
      "text/plain": [
       "country\n",
       "USA                 1891\n",
       "AUSTRALIA            711\n",
       "SOUTH AFRICA         380\n",
       "BRAZIL               113\n",
       "BAHAMAS              108\n",
       "NEW ZEALAND           72\n",
       "NEW CALEDONIA         56\n",
       "REUNION               56\n",
       "MEXICO                52\n",
       "EGYPT                 35\n",
       "FRENCH POLYNESIA      30\n",
       "FIJI                  24\n",
       "SPAIN                 22\n",
       "JAPAN                 21\n",
       "ITALY                 21\n",
       "HONG KONG             21\n",
       "MOZAMBIQUE            19\n",
       "PHILIPPINES           17\n",
       "Name: count, dtype: int64"
      ]
     },
     "execution_count": 134,
     "metadata": {},
     "output_type": "execute_result"
    }
   ],
   "source": [
    "print(pd.unique(df_country['country']).size)\n",
    "df_country['country'].value_counts()"
   ]
  },
  {
   "cell_type": "markdown",
   "metadata": {},
   "source": [
    "## 3. Hypothesis"
   ]
  },
  {
   "cell_type": "markdown",
   "metadata": {},
   "source": [
    "### A) Ataques por países"
   ]
  },
  {
   "cell_type": "code",
   "execution_count": 88,
   "metadata": {},
   "outputs": [
    {
     "data": {
      "text/html": [
       "<div>\n",
       "<style scoped>\n",
       "    .dataframe tbody tr th:only-of-type {\n",
       "        vertical-align: middle;\n",
       "    }\n",
       "\n",
       "    .dataframe tbody tr th {\n",
       "        vertical-align: top;\n",
       "    }\n",
       "\n",
       "    .dataframe thead th {\n",
       "        text-align: right;\n",
       "    }\n",
       "</style>\n",
       "<table border=\"1\" class=\"dataframe\">\n",
       "  <thead>\n",
       "    <tr style=\"text-align: right;\">\n",
       "      <th></th>\n",
       "      <th>country</th>\n",
       "      <th>year</th>\n",
       "      <th>sex</th>\n",
       "    </tr>\n",
       "  </thead>\n",
       "  <tbody>\n",
       "    <tr>\n",
       "      <th>0</th>\n",
       "      <td>AUSTRALIA</td>\n",
       "      <td>2024.0</td>\n",
       "      <td>F</td>\n",
       "    </tr>\n",
       "    <tr>\n",
       "      <th>1</th>\n",
       "      <td>USA</td>\n",
       "      <td>2024.0</td>\n",
       "      <td>M</td>\n",
       "    </tr>\n",
       "    <tr>\n",
       "      <th>2</th>\n",
       "      <td>USA</td>\n",
       "      <td>2024.0</td>\n",
       "      <td>F</td>\n",
       "    </tr>\n",
       "    <tr>\n",
       "      <th>3</th>\n",
       "      <td>AUSTRALIA</td>\n",
       "      <td>2024.0</td>\n",
       "      <td>F</td>\n",
       "    </tr>\n",
       "    <tr>\n",
       "      <th>4</th>\n",
       "      <td>AUSTRALIA</td>\n",
       "      <td>2024.0</td>\n",
       "      <td>M</td>\n",
       "    </tr>\n",
       "  </tbody>\n",
       "</table>\n",
       "</div>"
      ],
      "text/plain": [
       "     country    year sex\n",
       "0  AUSTRALIA  2024.0   F\n",
       "1        USA  2024.0   M\n",
       "2        USA  2024.0   F\n",
       "3  AUSTRALIA  2024.0   F\n",
       "4  AUSTRALIA  2024.0   M"
      ]
     },
     "execution_count": 88,
     "metadata": {},
     "output_type": "execute_result"
    }
   ],
   "source": [
    "# Creamos una nueva tabla\n",
    "\n",
    "data_country_attack = data[['country','year', 'sex']]\n",
    "data_country_attack = data_country_attack.reset_index(drop=True)\n",
    "data_country_attack.head(5)"
   ]
  },
  {
   "cell_type": "code",
   "execution_count": 89,
   "metadata": {},
   "outputs": [
    {
     "name": "stdout",
     "output_type": "stream",
     "text": [
      "             country  attacks\n",
      "13               USA     1844\n",
      "0          AUSTRALIA      692\n",
      "12      SOUTH AFRICA      367\n",
      "2             BRAZIL       89\n",
      "11       NEW ZEALAND       56\n",
      "1            BAHAMAS       37\n",
      "10     NEW CALEDONIA       33\n",
      "8             MEXICO       24\n",
      "9         MOZAMBIQUE        9\n",
      "3              EGYPT        7\n",
      "5          HONG KONG        7\n",
      "4   FRENCH POLYNESIA        6\n",
      "6              ITALY        6\n",
      "7              JAPAN        6\n"
     ]
    }
   ],
   "source": [
    "prueba = data.groupby('country').size().reset_index(name= 'attacks') # Agrupar por páis\n",
    "prueba = prueba.sort_values(by='attacks', ascending=False) # Ordenar de mayor a menor\n",
    "print(prueba)"
   ]
  },
  {
   "cell_type": "code",
   "execution_count": 90,
   "metadata": {},
   "outputs": [
    {
     "name": "stdout",
     "output_type": "stream",
     "text": [
      "          country  attacks\n",
      "13            USA     1844\n",
      "0       AUSTRALIA      692\n",
      "12   SOUTH AFRICA      367\n",
      "2          BRAZIL       89\n",
      "11    NEW ZEALAND       56\n",
      "1         BAHAMAS       37\n",
      "10  NEW CALEDONIA       33\n",
      "8          MEXICO       24\n",
      "9      MOZAMBIQUE        9\n",
      "3           EGYPT        7\n"
     ]
    }
   ],
   "source": [
    "#high_level = prueba['repeticiones'].max() # Valor máximo de las repeticiones / ninguno\n",
    "country_attack_level = prueba.iloc[:10, :]\n",
    "print(country_attack_level)\n"
   ]
  },
  {
   "cell_type": "code",
   "execution_count": 92,
   "metadata": {},
   "outputs": [
    {
     "data": {
      "image/png": "[encoded data removed]",
      "text/plain": [
       "<Figure size 800x600 with 1 Axes>"
      ]
     },
     "metadata": {},
     "output_type": "display_data"
    }
   ],
   "source": [
    "#Diagrama de barras. \n",
    "\n",
    "# Crear gráfico de barras\n",
    "plot.figure(figsize=(8, 6))\n",
    "plot.bar(country_attack_level['country'], country_attack_level['attacks'], color='skyblue')\n",
    "\n",
    "# Añadir etiquetas y título\n",
    "plot.xlabel('country')\n",
    "plot.ylabel('repeticiones')\n",
    "plot.title('Repeticiones por País')\n",
    "plot.xticks(rotation=45)\n",
    "\n",
    "# Mostrar gráfico\n",
    "plot.show()"
   ]
  },
  {
   "cell_type": "code",
   "execution_count": null,
   "metadata": {},
   "outputs": [],
   "source": []
  }
 ],
 "metadata": {
  "kernelspec": {
   "display_name": "base",
   "language": "python",
   "name": "python3"
  },
  "language_info": {
   "codemirror_mode": {
    "name": "ipython",
    "version": 3
   },
   "file_extension": ".py",
   "mimetype": "text/x-python",
   "name": "python",
   "nbconvert_exporter": "python",
   "pygments_lexer": "ipython3",
   "version": "3.12.4"
  }
 },
 "nbformat": 4,
 "nbformat_minor": 2
}
