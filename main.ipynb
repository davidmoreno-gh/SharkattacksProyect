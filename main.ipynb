{
 "cells": [
  {
   "cell_type": "code",
   "execution_count": 2,
   "metadata": {},
   "outputs": [],
   "source": [
    "# pip install pandas xlrd\n",
    "import pandas as pd\n",
    "\n",
    "import xlrd\n",
    "\n",
    "url = 'https://www.sharkattackfile.net/spreadsheets/GSAF5.xls'\n",
    "data_df = pd.read_excel(url)\n"
   ]
  },
  {
   "cell_type": "code",
   "execution_count": 17,
   "metadata": {},
   "outputs": [],
   "source": [
    "import numpy as np"
   ]
  },
  {
   "cell_type": "code",
   "execution_count": null,
   "metadata": {},
   "outputs": [],
   "source": [
    "#ORDENAR - esta es la importacion del archivo de las funciones de limpieza que me he creado\n",
    "import sys\n",
    "sys.path.append(\"SHARKATTACKSPROYECT/\")\n",
    "from src.functions import *"
   ]
  },
  {
   "cell_type": "code",
   "execution_count": 1,
   "metadata": {},
   "outputs": [],
   "source": [
    "# We are taking a snapshot about our data panel in order to see to what we are facing.\n",
    "\n",
    "data_df.shape()"
   ]
  },
  {
   "cell_type": "code",
   "execution_count": null,
   "metadata": {},
   "outputs": [],
   "source": [
    "# It seems before step is enough to take a complete snapshot of our data. Lets go with another method.\n",
    "\n",
    "pd.options.display.max_columns # We get access to configure display options from Pandas and configure max columns to show."
   ]
  },
  {
   "cell_type": "code",
   "execution_count": 3,
   "metadata": {},
   "outputs": [],
   "source": [
    "# Once we've seen the columns distribution, we gonna face the date types of each column to know how start to work with each one.\n",
    "# We need to know how many Na/Non Values we have in data.\n",
    "data_df.info()"
   ]
  },
  {
   "cell_type": "code",
   "execution_count": null,
   "metadata": {},
   "outputs": [],
   "source": [
    "# Lets see to get a general idea about the problem with Na in order to clean approaching. We get percentages.\n",
    "\n",
    "Na_amount = round(data_df.isna().sum()*100/len(data_df), 2)\n",
    "Na_amount.sort_values(ascending = False)"
   ]
  },
  {
   "cell_type": "code",
   "execution_count": 11,
   "metadata": {},
   "outputs": [],
   "source": [
    "# We see there are some columns with a too high percentage of Nan Values.\n",
    "# A logical idea we can conclude, it is those columns with a high percentage of nan values are useless due to missinformation given.\n",
    "# So We decide to drop columns named \"Unnamed 21\" and \"Unnamed 22\".\n",
    "\n",
    "\n",
    "\n"
   ]
  },
  {
   "cell_type": "code",
   "execution_count": null,
   "metadata": {},
   "outputs": [],
   "source": [
    "# Eliminamos todas las filas con valores NA\n",
    "\n",
    "data_df.dropna(axis=0, inplace= True, how='all')\n",
    "\n",
    "df.dropna(axis=0, inplace= True, thresh=int(24*0.8))"
   ]
  },
  {
   "cell_type": "code",
   "execution_count": null,
   "metadata": {},
   "outputs": [],
   "source": []
  },
  {
   "cell_type": "code",
   "execution_count": null,
   "metadata": {},
   "outputs": [],
   "source": [
    "# Análisis de los datos de fecha\n",
    "\n",
    "#Columna Date\n",
    "\n",
    "#Vemos los valores únicos\n",
    "data_df.Year.unique()"
   ]
  },
  {
   "cell_type": "code",
   "execution_count": null,
   "metadata": {},
   "outputs": [],
   "source": [
    "# Tenemos valores muy raros, como año 0, 5, 77. Por cuestiones históricas, decidimos dropear todo lo anterior al año 1800.\n",
    "\n",
    "# Como tenemos otra columna (date) que también nos da años, intentamos si podemos rescatar datos: \n",
    "\n",
    "data_df[['Date','Year']][data_df.Year == 0] #81 fechas que podemos rescatar a través de date"
   ]
  },
  {
   "cell_type": "code",
   "execution_count": null,
   "metadata": {},
   "outputs": [],
   "source": [
    "data_df.Date = data_df.Date.replace(regex=r'(?i)Reported\\s{1,9}',value='')\n",
    "list(data_df.Date.unique())"
   ]
  },
  {
   "cell_type": "code",
   "execution_count": 18,
   "metadata": {},
   "outputs": [
    {
     "data": {
      "text/plain": [
       "(129, 23)"
      ]
     },
     "execution_count": 18,
     "metadata": {},
     "output_type": "execute_result"
    }
   ],
   "source": [
    "# Aunque no salen en los uniques hay muchos Dates que salen como rangos, o datos de antes de Cristo.\n",
    "# Vamos a denominarlos momentáneamente salvables para ver cuantos hay exactamente:\n",
    "salvables = data_df.loc[(data_df[\"Year\"] == 0) & (data_df[\"Date\"] != np.nan)]\n",
    "salvables.shape"
   ]
  },
  {
   "cell_type": "code",
   "execution_count": null,
   "metadata": {},
   "outputs": [],
   "source": []
  },
  {
   "cell_type": "code",
   "execution_count": null,
   "metadata": {},
   "outputs": [],
   "source": []
  },
  {
   "cell_type": "code",
   "execution_count": null,
   "metadata": {},
   "outputs": [],
   "source": []
  },
  {
   "cell_type": "code",
   "execution_count": null,
   "metadata": {},
   "outputs": [],
   "source": []
  },
  {
   "cell_type": "code",
   "execution_count": null,
   "metadata": {},
   "outputs": [],
   "source": []
  },
  {
   "cell_type": "code",
   "execution_count": null,
   "metadata": {},
   "outputs": [],
   "source": []
  },
  {
   "cell_type": "code",
   "execution_count": null,
   "metadata": {},
   "outputs": [],
   "source": []
  },
  {
   "cell_type": "code",
   "execution_count": null,
   "metadata": {},
   "outputs": [],
   "source": []
  },
  {
   "cell_type": "code",
   "execution_count": null,
   "metadata": {},
   "outputs": [],
   "source": [
    "data_df.Date.str.replace(\"-\", \" \") #1\n",
    "data_df.Date.str.replace(\"_\", \" \")#2\n",
    "data_df.Date.str.strip() #3\n"
   ]
  }
 ],
 "metadata": {
  "kernelspec": {
   "display_name": "base",
   "language": "python",
   "name": "python3"
  },
  "language_info": {
   "codemirror_mode": {
    "name": "ipython",
    "version": 3
   },
   "file_extension": ".py",
   "mimetype": "text/x-python",
   "name": "python",
   "nbconvert_exporter": "python",
   "pygments_lexer": "ipython3",
   "version": "3.11.7"
  }
 },
 "nbformat": 4,
 "nbformat_minor": 2
}
