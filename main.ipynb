{
 "cells": [
  {
   "cell_type": "markdown",
   "metadata": {},
   "source": [
    "# 0. IMPORTACIONES"
   ]
  },
  {
   "cell_type": "code",
   "execution_count": null,
   "metadata": {},
   "outputs": [],
   "source": [
    "# pip install pandas xlrd "
   ]
  },
  {
   "cell_type": "markdown",
   "metadata": {},
   "source": [
    "Importamos las principales librerías que vamos a necesitar"
   ]
  },
  {
   "cell_type": "code",
   "execution_count": 1,
   "metadata": {},
   "outputs": [],
   "source": [
    "import pandas as pd                 # Pandas para dataframes\n",
    "import numpy as np                  # Numpy para trabajar matrices\n",
    "import re                           # Regex para trabajar patrones\n",
    "import src.functions as fc          # Nuestras funciones del documento .py\n",
    "import matplotlib.pyplot as plot    # matplotlib para trabajar con gráficos."
   ]
  },
  {
   "cell_type": "markdown",
   "metadata": {},
   "source": [
    "Cargamos el documento xls desde la web"
   ]
  },
  {
   "cell_type": "code",
   "execution_count": 2,
   "metadata": {},
   "outputs": [],
   "source": [
    "# Cargamos el documento desde la web\n",
    "\n",
    "url = 'https://www.sharkattackfile.net/spreadsheets/GSAF5.xls'\n",
    "\n",
    "data = pd.read_excel(url)"
   ]
  },
  {
   "cell_type": "markdown",
   "metadata": {},
   "source": [
    "# 1. Data Recognizing\n",
    "Vamos a realizar un primer vistazo a los datos para ver a qué nos enfrentamos. "
   ]
  },
  {
   "cell_type": "code",
   "execution_count": null,
   "metadata": {},
   "outputs": [],
   "source": [
    "data.head(5)"
   ]
  },
  {
   "cell_type": "code",
   "execution_count": null,
   "metadata": {},
   "outputs": [],
   "source": [
    "print(data.columns) # Obtenemos los nombres de las columnas\n",
    "print(data.shape )  # La tabla de datos tiene 6969 filas x 23 columnas\n",
    "print(data.size)    # La tabla tiene un total de 160287 datos"
   ]
  },
  {
   "cell_type": "markdown",
   "metadata": {},
   "source": [
    "Vamos a echar un vistazo a los objetos nulos que posee la tabla para ver cuántos agujeros tiene este queso de Gruyere"
   ]
  },
  {
   "cell_type": "code",
   "execution_count": null,
   "metadata": {},
   "outputs": [],
   "source": [
    "data.info() # Nos muestra tanto el tipo de dato por columna como los datos no nulos."
   ]
  },
  {
   "cell_type": "code",
   "execution_count": null,
   "metadata": {},
   "outputs": [],
   "source": [
    "data.isnull().sum() # Muestra la suma de valores nulos por columna"
   ]
  },
  {
   "cell_type": "markdown",
   "metadata": {},
   "source": [
    "# 2. Data Cleaning"
   ]
  },
  {
   "cell_type": "markdown",
   "metadata": {},
   "source": [
    "## 2.1 Columns drop\n",
    "\n",
    "Para limpiar los datos, vamos a proceder de arriba a abajo, viendo primero los nombres de las columnas."
   ]
  },
  {
   "cell_type": "code",
   "execution_count": 3,
   "metadata": {},
   "outputs": [],
   "source": [
    "from src.functions import * "
   ]
  },
  {
   "cell_type": "code",
   "execution_count": 4,
   "metadata": {},
   "outputs": [],
   "source": [
    "# Aplicamos nuestra función para estandarizar los títulos de columnas\n",
    "data = fc.clean_labels(data)"
   ]
  },
  {
   "cell_type": "markdown",
   "metadata": {},
   "source": [
    "Renombramos un par de columnas que nos quedan fuera de la función: "
   ]
  },
  {
   "cell_type": "code",
   "execution_count": 15,
   "metadata": {},
   "outputs": [],
   "source": [
    "data.rename(columns={\"species_\" : \"species\", \"unnamed_11\" : \"death\"}, inplace= True)"
   ]
  },
  {
   "cell_type": "code",
   "execution_count": 5,
   "metadata": {},
   "outputs": [],
   "source": [
    "# Vamos a borrar de raíz todos los duplicados existentes\n",
    "data = data.drop_duplicates()"
   ]
  },
  {
   "cell_type": "markdown",
   "metadata": {},
   "source": [
    "Y ahora eliminaremos aquellas columnas que no nos aportan información o están más corruptas.\n",
    "Para definir un poco cuáles van a ser estas columnas, miraremos el porcentaje valores nulos de las mismas"
   ]
  },
  {
   "cell_type": "code",
   "execution_count": null,
   "metadata": {},
   "outputs": [],
   "source": [
    "\n",
    "Na_column_amount = round(data.isna().sum()*100/len(data),2) #Calculo el porcentaje de valores NaN\n",
    "Na_column_amount.sort_values(ascending = False)\n",
    "print(Na_column_amount)\n",
    "# Species, time y age."
   ]
  },
  {
   "cell_type": "markdown",
   "metadata": {},
   "source": [
    "Como estadísticamente sería una práctica errónea intentar rellenar datos desconocidos mediante promedios, medianas o modas de una muestra donde al menos el 40% de los datos son nulos, vamos a prescindir de las columnas que no cumplan con este criterio. "
   ]
  },
  {
   "cell_type": "code",
   "execution_count": 9,
   "metadata": {},
   "outputs": [],
   "source": [
    "from src.functions import *"
   ]
  },
  {
   "cell_type": "code",
   "execution_count": 18,
   "metadata": {},
   "outputs": [],
   "source": [
    "data = clean_corrupted_col(data)\n",
    "\n",
    "# data.drop(['age', 'time', 'species', 'unnamed_21', 'unnamed_22'], axis=1, inplace=True)"
   ]
  },
  {
   "cell_type": "markdown",
   "metadata": {},
   "source": [
    "Nos desharemos de las columnas que no nos proporcionan información útil"
   ]
  },
  {
   "cell_type": "code",
   "execution_count": 19,
   "metadata": {},
   "outputs": [],
   "source": [
    "prueba1 = clean_unwilling_col(data)"
   ]
  },
  {
   "cell_type": "markdown",
   "metadata": {},
   "source": [
    "Y proporcionaremos al usuario la posibilidad de eliminar columnas adicionales si no las necesita para que obtenga un dataframe personalizado"
   ]
  },
  {
   "cell_type": "code",
   "execution_count": null,
   "metadata": {},
   "outputs": [],
   "source": [
    "data_user_clean= eliminar_columnas_input(data)\n",
    "\n",
    "# Eliminaremos las mierdas que nos faltan. "
   ]
  },
  {
   "cell_type": "markdown",
   "metadata": {},
   "source": [
    "## 2.2 Filling null values\n",
    "\n",
    "Ahora que tenemos las columnas con las que deseamos a trabajar, procedemos a rellenar los datos nulos"
   ]
  },
  {
   "cell_type": "code",
   "execution_count": 21,
   "metadata": {},
   "outputs": [],
   "source": [
    "# Vamos a establecer un criterio de que aquellas filas cuya mitad o más de los datos sean nulos, vamos a eliminarlas.\n",
    "\n",
    "data = data.dropna(thresh=(data.shape[1] - 4))"
   ]
  },
  {
   "cell_type": "code",
   "execution_count": null,
   "metadata": {},
   "outputs": [],
   "source": [
    "# Volvemos a contar los nulos por columna\n",
    "\n",
    "data.isnull().sum()"
   ]
  },
  {
   "cell_type": "markdown",
   "metadata": {},
   "source": [
    "Vamos a sustituir todos los valores null por \"unknown\" para poder trabajar con algo más de precisión"
   ]
  },
  {
   "cell_type": "code",
   "execution_count": 25,
   "metadata": {},
   "outputs": [],
   "source": [
    "data[\"year\"] = data[\"year\"].fillna('Unknown')\n",
    "data[\"country\"] = data[\"country\"].fillna('Unknown')\n",
    "data[\"location\"] = data[\"location\"].fillna('Unknown')\n",
    "data[\"sex\"] = data[\"sex\"].fillna('Unknown')\n",
    "data[\"death\"] = data[\"death\"].fillna('Unknown')"
   ]
  },
  {
   "cell_type": "markdown",
   "metadata": {},
   "source": [
    "## 2.3 Deep Selected Columns cleaning"
   ]
  },
  {
   "cell_type": "markdown",
   "metadata": {},
   "source": [
    "Vamos con la columna de Estados . Eliminaremos aquellos paises con menos de 15 ataques"
   ]
  },
  {
   "cell_type": "markdown",
   "metadata": {},
   "source": [
    "### Eliminación estadística de datos"
   ]
  },
  {
   "cell_type": "markdown",
   "metadata": {},
   "source": []
  },
  {
   "cell_type": "code",
   "execution_count": 26,
   "metadata": {},
   "outputs": [],
   "source": [
    "data = clean_country(data, 15)"
   ]
  },
  {
   "cell_type": "markdown",
   "metadata": {},
   "source": [
    "Vamos con la columna de Estados, que borraremos aquellos que tengan menos de 16 ataques."
   ]
  },
  {
   "cell_type": "code",
   "execution_count": null,
   "metadata": {},
   "outputs": [],
   "source": [
    "data= clean_state(data, 16)"
   ]
  },
  {
   "cell_type": "markdown",
   "metadata": {},
   "source": [
    "En cuanto a la columna de sexo, le daremos formato para que unificar el criterio de información"
   ]
  },
  {
   "cell_type": "code",
   "execution_count": null,
   "metadata": {},
   "outputs": [],
   "source": [
    "prueba31 = clean_sex(data)\n",
    "'''MIRAR SI ERROR'''"
   ]
  },
  {
   "cell_type": "code",
   "execution_count": null,
   "metadata": {},
   "outputs": [],
   "source": [
    "data['sex']"
   ]
  },
  {
   "cell_type": "markdown",
   "metadata": {},
   "source": [
    "### Columna Year"
   ]
  },
  {
   "cell_type": "markdown",
   "metadata": {},
   "source": [
    "Aprovechamos que en la columna year sólo tenemos dos \"unknown\" para reemplazarlos por el valor promedio de la serie. "
   ]
  },
  {
   "cell_type": "code",
   "execution_count": 35,
   "metadata": {},
   "outputs": [],
   "source": [
    "data['year'] = pd.to_numeric(data['year'], errors='coerce') # Reemplazamos 'unknown' por NaN\n",
    "promedio = data['year'].mean() # Calculamos el promedio de los valores numéricos (ignorando NaN)\n",
    "data['year'].fillna(promedio, inplace=True) # Reemplazamos NaN por el promedio\n",
    "\n",
    "'''algo anda mal'''"
   ]
  },
  {
   "cell_type": "code",
   "execution_count": null,
   "metadata": {},
   "outputs": [],
   "source": [
    "# Comprobamos\n",
    "pd.unique(data['year'])"
   ]
  },
  {
   "cell_type": "code",
   "execution_count": null,
   "metadata": {},
   "outputs": [],
   "source": [
    "'''Columna Type!\n",
    "#Lo vamos a añadir todo en 'Unprovoked', 'Provoked' y 'Unknown'. \n",
    "#Las inclemencias meteorologicas las cuento como 'Unprovoked'.\n",
    "#Las demás, las utilizaremos como 'Unknown'\n",
    "\n",
    "pd.unique(data_clean['Type'])\n",
    "data_clean['Type'].value_counts()\n",
    "data_clean['Type'] = data_clean['Type'].apply(op.Type)\n",
    "pd.unique(data_clean['Type'])'''\n",
    "\n",
    "#Lo vamos a añadir todo en 'Unprovoked', 'Provoked' y 'Unknown'. \n",
    "#Las inclemencias meteorologicas las cuento como 'Unprovoked'.\n",
    "#Las demás, las utilizaremos como 'Unknown'"
   ]
  },
  {
   "cell_type": "markdown",
   "metadata": {},
   "source": [
    "### Columna Country"
   ]
  },
  {
   "cell_type": "code",
   "execution_count": null,
   "metadata": {},
   "outputs": [],
   "source": [
    "pd.unique(data['country'])"
   ]
  },
  {
   "cell_type": "code",
   "execution_count": 51,
   "metadata": {},
   "outputs": [
    {
     "name": "stdout",
     "output_type": "stream",
     "text": [
      "219\n"
     ]
    },
    {
     "data": {
      "text/plain": [
       "country\n",
       "USA                               2474\n",
       "AUSTRALIA                         1451\n",
       "SOUTH AFRICA                       593\n",
       "NEW ZEALAND                        141\n",
       "PAPUA NEW GUINEA                   136\n",
       "                                  ... \n",
       "ADMIRALTY ISLANDS                    1\n",
       "FEDERATED STATES OF MICRONESIA       1\n",
       "RED SEA                              1\n",
       "BRITISH ISLES                        1\n",
       "CEYLON (SRI LANKA)                   1\n",
       "Name: count, Length: 219, dtype: int64"
      ]
     },
     "execution_count": 51,
     "metadata": {},
     "output_type": "execute_result"
    }
   ],
   "source": [
    "print(pd.unique(data['country']).size)\n",
    "pd.unique(data['country'])\n",
    "data['country'].value_counts()"
   ]
  },
  {
   "cell_type": "markdown",
   "metadata": {},
   "source": [
    "## 3. Hypothesis"
   ]
  },
  {
   "cell_type": "markdown",
   "metadata": {},
   "source": [
    "### A) Ataques por países"
   ]
  },
  {
   "cell_type": "code",
   "execution_count": null,
   "metadata": {},
   "outputs": [],
   "source": [
    "# Creamos una nueva tabla\n",
    "\n",
    "countries_attacks = data[(data['country'] != 'Unknow')]\n",
    "data_country_attack = countries_attacks[['country','year', 'sex',]]\n",
    "data_country_attack = data_country_attack.reset_index(drop=True)\n",
    "data_country_attack.head(5)"
   ]
  },
  {
   "cell_type": "code",
   "execution_count": null,
   "metadata": {},
   "outputs": [],
   "source": [
    "data_country_attack"
   ]
  },
  {
   "cell_type": "code",
   "execution_count": 54,
   "metadata": {},
   "outputs": [
    {
     "name": "stdout",
     "output_type": "stream",
     "text": [
      "                            country  attacks\n",
      "210                             USA     2474\n",
      "14                        AUSTRALIA     1451\n",
      "175                    SOUTH AFRICA      593\n",
      "130                     NEW ZEALAND      141\n",
      "149                PAPUA NEW GUINEA      136\n",
      "..                              ...      ...\n",
      "62   FEDERATED STATES OF MICRONESIA        1\n",
      "67                            GABON        1\n",
      "142                           OCEAN        1\n",
      "141                     New Zealand        1\n",
      "0                       PHILIPPINES        1\n",
      "\n",
      "[219 rows x 2 columns]\n"
     ]
    }
   ],
   "source": [
    "prueba = data.groupby('country').size().reset_index(name= 'attacks') # Agrupar por páis\n",
    "prueba = prueba.sort_values(by='attacks', ascending=False) # Ordenar de mayor a menor\n",
    "print(prueba)"
   ]
  },
  {
   "cell_type": "code",
   "execution_count": 46,
   "metadata": {},
   "outputs": [
    {
     "name": "stdout",
     "output_type": "stream",
     "text": [
      "              country  repeticiones\n",
      "210               USA          2474\n",
      "14          AUSTRALIA          1451\n",
      "175      SOUTH AFRICA           593\n",
      "130       NEW ZEALAND           141\n",
      "149  PAPUA NEW GUINEA           136\n",
      "16            BAHAMAS           129\n",
      "23             BRAZIL           119\n",
      "116            MEXICO            98\n",
      "92              ITALY            71\n",
      "63               FIJI            66\n"
     ]
    }
   ],
   "source": [
    "#high_level = prueba['repeticiones'].max() # Valor máximo de las repeticiones / ninguno\n",
    "country_attack_level = prueba.iloc[:10, :]\n",
    "print(country_attack_level)\n"
   ]
  },
  {
   "cell_type": "code",
   "execution_count": 47,
   "metadata": {},
   "outputs": [
    {
     "data": {
      "image/png": "[encoded data removed]",
      "text/plain": [
       "<Figure size 800x600 with 1 Axes>"
      ]
     },
     "metadata": {},
     "output_type": "display_data"
    }
   ],
   "source": [
    "#Diagrama de barras. \n",
    "\n",
    "# Crear gráfico de barras\n",
    "plot.figure(figsize=(8, 6))\n",
    "plot.bar(country_attack_level['country'], country_attack_level['repeticiones'], color='skyblue')\n",
    "\n",
    "# Añadir etiquetas y título\n",
    "plot.xlabel('country')\n",
    "plot.ylabel('repeticiones')\n",
    "plot.title('Repeticiones por País')\n",
    "plot.xticks(rotation=45)\n",
    "\n",
    "# Mostrar gráfico\n",
    "plot.show()"
   ]
  }
 ],
 "metadata": {
  "kernelspec": {
   "display_name": "base",
   "language": "python",
   "name": "python3"
  },
  "language_info": {
   "codemirror_mode": {
    "name": "ipython",
    "version": 3
   },
   "file_extension": ".py",
   "mimetype": "text/x-python",
   "name": "python",
   "nbconvert_exporter": "python",
   "pygments_lexer": "ipython3",
   "version": "3.11.7"
  }
 },
 "nbformat": 4,
 "nbformat_minor": 2
}
