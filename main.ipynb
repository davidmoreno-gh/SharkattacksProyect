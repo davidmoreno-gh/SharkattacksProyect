{
 "cells": [
  {
   "cell_type": "code",
   "execution_count": null,
   "metadata": {},
   "outputs": [],
   "source": [
    "# pip install pandas xlrd "
   ]
  },
  {
   "cell_type": "markdown",
   "metadata": {},
   "source": [
    "Importamos las principales librerías que vamos a necesitar"
   ]
  },
  {
   "cell_type": "code",
   "execution_count": 1,
   "metadata": {},
   "outputs": [],
   "source": [
    "import pandas as pd                 # Pandas para dataframes\n",
    "import numpy as np                  # Numpy para trabajar matrices\n",
    "import re                           # Regex para trabajar patrones\n",
    "import src.functions as fc          # Nuestras funciones del documento .py\n",
    "import matplotlib.pyplot as plot    # matplotlib para trabajar con gráficos."
   ]
  },
  {
   "cell_type": "markdown",
   "metadata": {},
   "source": [
    "Cargamos el documento xls desde la web"
   ]
  },
  {
   "cell_type": "code",
   "execution_count": 2,
   "metadata": {},
   "outputs": [],
   "source": [
    "# Cargamos el documento desde la web\n",
    "\n",
    "url = 'https://www.sharkattackfile.net/spreadsheets/GSAF5.xls'\n",
    "\n",
    "data = pd.read_excel(url)"
   ]
  },
  {
   "cell_type": "markdown",
   "metadata": {},
   "source": [
    "## 1. Data Recognizing\n",
    "Vamos a realizar un primer vistazo a los datos para ver a qué nos enfrentamos. "
   ]
  },
  {
   "cell_type": "code",
   "execution_count": null,
   "metadata": {},
   "outputs": [],
   "source": [
    "data.head(5) #23 columnas"
   ]
  },
  {
   "cell_type": "code",
   "execution_count": null,
   "metadata": {},
   "outputs": [],
   "source": [
    "print(data.columns)\n",
    "print(data.shape )  # 6369 filas x 23 columnas\n",
    "print(data.size)    # 160287 datos"
   ]
  },
  {
   "cell_type": "markdown",
   "metadata": {},
   "source": [
    "Vamos a echar un vistazo a los objetos nulos que posee la tabla"
   ]
  },
  {
   "cell_type": "code",
   "execution_count": null,
   "metadata": {},
   "outputs": [],
   "source": [
    "data.info() # Nos muestra tanto el tipo de dato por columna como los datos no nulos."
   ]
  },
  {
   "cell_type": "code",
   "execution_count": null,
   "metadata": {},
   "outputs": [],
   "source": [
    "data.isnull().sum() # Muestra la suma de valores nulos"
   ]
  },
  {
   "cell_type": "markdown",
   "metadata": {},
   "source": [
    "## 2. Data Cleaning\n",
    "\n",
    "Para limpiar los datos, vamos a proceder de abajo arriba, estandarizando los nombres de las columnas."
   ]
  },
  {
   "cell_type": "code",
   "execution_count": null,
   "metadata": {},
   "outputs": [],
   "source": [
    "########## MAIN DE LIDIA ##############\n",
    "'''df = clean_country(df, 15)\n",
    "df = clean_state(df, 12)\n",
    "df = clean_sex(df, 'Sex')'''\n",
    "\n",
    "############## MAIN DE ANA ##########\n",
    "'''\n",
    "df_sharkattack = clean_labels(df_sharkattack)\n",
    "df_sharkattack = clean_rows(df_sharkattack)\n",
    "# Next, we will remove the columns that are not necessary for our analysis:\n",
    "\n",
    "#First, let's check and remove the columns that are made up of null values ​​in the vast majority. \n",
    "#Secondly, we are going to remove the columns from the variables type, name, injury, time, \n",
    "# source that we do not need for our analysis as we have data that we do not see that influences sales\n",
    "\n",
    "df_sharkattack = clean_country(df_sharkattack, 15)\n",
    "df_sharkattack = clean_state(df_sharkattack, 12)\n",
    "df_sharkattack = clean_sex(df_sharkattack, 'sex')\n",
    "\n",
    "# show results\n",
    "df_sharkattack.isnull().sum()\n",
    "'''"
   ]
  },
  {
   "cell_type": "code",
   "execution_count": 10,
   "metadata": {},
   "outputs": [],
   "source": [
    "#Quitamos los espacios y ponemos todo minúsculas\n",
    "\n",
    "data.columns = data.columns.str.lower().str.strip()"
   ]
  },
  {
   "cell_type": "code",
   "execution_count": null,
   "metadata": {},
   "outputs": [],
   "source": [
    "data.columns"
   ]
  },
  {
   "cell_type": "code",
   "execution_count": 15,
   "metadata": {},
   "outputs": [],
   "source": [
    "# Vamos a borrar posibles duplicados del dataframe\n",
    "\n",
    "data=data.drop_duplicates()"
   ]
  },
  {
   "cell_type": "code",
   "execution_count": null,
   "metadata": {},
   "outputs": [],
   "source": [
    "# Vamos a ver las columnas que no nos aportan mucha información por su nombre:\n",
    "print(data[\"unnamed: 11\"].isnull().value_counts())  # 6385/6945 Na\n",
    "print(data[\"unnamed: 21\"].isnull().value_counts())  # 6944/6945 Na\n",
    "print(data[\"unnamed: 22\"].isnull().value_counts())  # 6943/6945 Na\n",
    "print(data[\"href formula\"].isnull().value_counts()) # 6795/6945 Na\n",
    "print(data[\"href\"].isnull().value_counts())         # 6796/6945 Na\n",
    "print(data[\"case number.1\"].isnull().value_counts())# 6797/6945 Na\n",
    "\n",
    "# Por lo tanto concluimos que todas estas columnas, cuya casi totalidad de datos son nulos, van fuera. "
   ]
  },
  {
   "cell_type": "code",
   "execution_count": 35,
   "metadata": {},
   "outputs": [],
   "source": [
    "# Borramos las columnas antes mencionadas:\n",
    "data= data.drop([\"unnamed: 11\", \"unnamed: 21\", \"unnamed: 22\", \"href formula\", \"href\", \"case number.1\"], axis = 1)"
   ]
  },
  {
   "cell_type": "code",
   "execution_count": null,
   "metadata": {},
   "outputs": [],
   "source": [
    "# Además, para nuestros análisis, no nos van a hacer falta las siguientes columnas: \n",
    "\n",
    "data= data.drop([\"type\"], axis=1)       # No nos interesa si es provocado o no.\n",
    "data= data.drop([\"name\"], axis=1)       # No nos interesa el nombre del sujeto.\n",
    "data= data.drop([\"injury\"], axis=1)     # No nos interesa el tipo de herida.\n",
    "data= data.drop([\"species\"], axis=1)    # No nos interesa la especiel del tiburón\n",
    "data= data.drop([\"source\"], axis=1)     # No nos interesa de dónde sale la noticia  \n",
    "data= data.drop([\"pdf\"], axis=1)        # No nos interesa el pdf\n",
    "data= data.drop([\"case number\"], axis=1)#etc\n",
    "data= data.drop([\"original order\"], axis=1)\n",
    "\n"
   ]
  },
  {
   "cell_type": "code",
   "execution_count": 47,
   "metadata": {},
   "outputs": [],
   "source": [
    "data= data.drop([\"time\"], axis=1)       # No nos interesa la hora"
   ]
  },
  {
   "cell_type": "markdown",
   "metadata": {},
   "source": [
    "Nos quedamos finalmente con un panel de 8 columnas de datos útiles. "
   ]
  },
  {
   "cell_type": "code",
   "execution_count": 51,
   "metadata": {},
   "outputs": [],
   "source": [
    "# Vamos a establecer un criterio de que aquellas filas cuya mitad o más de los datos sean nulos, vamos a eliminarlas.\n",
    "\n",
    "data = data.dropna(thresh=(data.shape[1] - 4))"
   ]
  },
  {
   "cell_type": "code",
   "execution_count": null,
   "metadata": {},
   "outputs": [],
   "source": [
    "# Volvemos a contar los nulos por columna\n",
    "data.isnull().sum()"
   ]
  },
  {
   "cell_type": "code",
   "execution_count": 54,
   "metadata": {},
   "outputs": [],
   "source": [
    "# Vamos a cambiar los null por Unknow en aquellas columnas más obvias.\n",
    "# Es decir, aquellas que a priori, no podemos meter promedios numéricos."
   ]
  },
  {
   "cell_type": "code",
   "execution_count": null,
   "metadata": {},
   "outputs": [],
   "source": [
    "data[\"country\"] = data[\"country\"].fillna('Unknown')\n",
    "data[\"state\"] = data[\"state\"].fillna('Unknown')\n",
    "data[\"location\"] = data[\"Alocation\"].fillna('Unknown')\n",
    "data[\"sex\"] = data[\"sex\"].fillna('Unknown')\n",
    "data[\"activity\"] = data[\"activity\"].fillna('Unknown')\n",
    "\n",
    "#Quedan pendientes year y age. "
   ]
  },
  {
   "cell_type": "markdown",
   "metadata": {},
   "source": [
    "COLUMNA YEAR"
   ]
  },
  {
   "cell_type": "code",
   "execution_count": 56,
   "metadata": {},
   "outputs": [],
   "source": [
    "# Como sólo tenemos dos nulos, los remplazamos por 0, ya que estadísticamente no va a ser significativo.\n",
    "\n",
    "data['year'] = data['year'].fillna(0)"
   ]
  },
  {
   "cell_type": "code",
   "execution_count": null,
   "metadata": {},
   "outputs": [],
   "source": [
    "# Comprobamos\n",
    "pd.unique(data['year'])"
   ]
  },
  {
   "cell_type": "code",
   "execution_count": null,
   "metadata": {},
   "outputs": [],
   "source": [
    "'''Columna Type!\n",
    "#Lo vamos a añadir todo en 'Unprovoked', 'Provoked' y 'Unknown'. \n",
    "#Las inclemencias meteorologicas las cuento como 'Unprovoked'.\n",
    "#Las demás, las utilizaremos como 'Unknown'\n",
    "\n",
    "pd.unique(data_clean['Type'])\n",
    "data_clean['Type'].value_counts()\n",
    "data_clean['Type'] = data_clean['Type'].apply(op.Type)\n",
    "pd.unique(data_clean['Type'])'''"
   ]
  },
  {
   "cell_type": "markdown",
   "metadata": {},
   "source": [
    "COLUMNA COUNTRY"
   ]
  },
  {
   "cell_type": "code",
   "execution_count": null,
   "metadata": {},
   "outputs": [],
   "source": [
    "pd.unique(data['country'])"
   ]
  },
  {
   "cell_type": "code",
   "execution_count": null,
   "metadata": {},
   "outputs": [],
   "source": [
    "print(pd.unique(data['country']).size)\n",
    "pd.unique(data['country'])\n",
    "data['country'].value_counts()"
   ]
  },
  {
   "cell_type": "code",
   "execution_count": null,
   "metadata": {},
   "outputs": [],
   "source": [
    "#Lo vamos a añadir todo en 'Unprovoked', 'Provoked' y 'Unknown'. \n",
    "#Las inclemencias meteorologicas las cuento como 'Unprovoked'.\n",
    "#Las demás, las utilizaremos como 'Unknown'\n",
    "\n",
    "'''pd.unique(data_clean['Type'])\n",
    "data_clean['Type'].value_counts()\n",
    "data_clean['Type'] = data_clean['Type'].apply(op.Type)\n",
    "pd.unique(data_clean['Type'])'''"
   ]
  },
  {
   "cell_type": "markdown",
   "metadata": {},
   "source": [
    "## 3. Hypothesis"
   ]
  },
  {
   "cell_type": "markdown",
   "metadata": {},
   "source": [
    "### A) Ataques por países"
   ]
  },
  {
   "cell_type": "code",
   "execution_count": null,
   "metadata": {},
   "outputs": [],
   "source": [
    "# Creamos una nueva tabla\n",
    "\n",
    "countries_attacks = data[(data['country'] != 'Unknow')]\n",
    "data_country_attack = countries_attacks[['country','year', 'sex', 'age']]\n",
    "data_country_attack = data_country_attack.reset_index(drop=True)\n",
    "data_country_attack.head(5)"
   ]
  },
  {
   "cell_type": "code",
   "execution_count": null,
   "metadata": {},
   "outputs": [],
   "source": [
    "prueba = data.groupby('country').size().reset_index(name= 'repeticiones') # Agrupar por páis\n",
    "prueba = prueba.sort_values(by='repeticiones', ascending=False) # Ordenar de mayor a menor\n",
    "print(prueba)"
   ]
  },
  {
   "cell_type": "code",
   "execution_count": null,
   "metadata": {},
   "outputs": [],
   "source": [
    "#high_level = prueba['repeticiones'].max() # Valor máximo de las repeticiones / ninguno\n",
    "country_attack_level = prueba.iloc[:10, :]\n",
    "print(country_attack_level)\n"
   ]
  },
  {
   "cell_type": "code",
   "execution_count": 83,
   "metadata": {},
   "outputs": [
    {
     "data": {
      "image/png": "[encoded data removed]",
      "text/plain": [
       "<Figure size 800x600 with 1 Axes>"
      ]
     },
     "metadata": {},
     "output_type": "display_data"
    }
   ],
   "source": [
    "#Diagrama de barras. \n",
    "\n",
    "# Crear gráfico de barras\n",
    "plot.figure(figsize=(8, 6))\n",
    "plot.bar(country_attack_level['country'], country_attack_level['repeticiones'], color='skyblue')\n",
    "\n",
    "# Añadir etiquetas y título\n",
    "plot.xlabel('country')\n",
    "plot.ylabel('repeticiones')\n",
    "plot.title('Repeticiones por País')\n",
    "plot.xticks(rotation=45)\n",
    "\n",
    "# Mostrar gráfico\n",
    "plot.show()"
   ]
  },
  {
   "cell_type": "code",
   "execution_count": null,
   "metadata": {},
   "outputs": [],
   "source": []
  },
  {
   "cell_type": "code",
   "execution_count": null,
   "metadata": {},
   "outputs": [],
   "source": []
  },
  {
   "cell_type": "code",
   "execution_count": null,
   "metadata": {},
   "outputs": [],
   "source": []
  }
 ],
 "metadata": {
  "kernelspec": {
   "display_name": "base",
   "language": "python",
   "name": "python3"
  },
  "language_info": {
   "codemirror_mode": {
    "name": "ipython",
    "version": 3
   },
   "file_extension": ".py",
   "mimetype": "text/x-python",
   "name": "python",
   "nbconvert_exporter": "python",
   "pygments_lexer": "ipython3",
   "version": "3.11.7"
  }
 },
 "nbformat": 4,
 "nbformat_minor": 2
}
