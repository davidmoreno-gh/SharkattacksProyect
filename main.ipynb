{
 "cells": [
  {
   "cell_type": "code",
   "execution_count": 1,
   "metadata": {},
   "outputs": [
    {
     "name": "stdout",
     "output_type": "stream",
     "text": [
      "Requirement already satisfied: pandas in c:\\users\\anano\\anaconda3\\lib\\site-packages (2.2.2)\n",
      "Requirement already satisfied: xlrd in c:\\users\\anano\\anaconda3\\lib\\site-packages (2.0.1)\n",
      "Requirement already satisfied: numpy>=1.26.0 in c:\\users\\anano\\anaconda3\\lib\\site-packages (from pandas) (1.26.4)\n",
      "Requirement already satisfied: python-dateutil>=2.8.2 in c:\\users\\anano\\anaconda3\\lib\\site-packages (from pandas) (2.9.0.post0)\n",
      "Requirement already satisfied: pytz>=2020.1 in c:\\users\\anano\\anaconda3\\lib\\site-packages (from pandas) (2024.1)\n",
      "Requirement already satisfied: tzdata>=2022.7 in c:\\users\\anano\\anaconda3\\lib\\site-packages (from pandas) (2023.3)\n",
      "Requirement already satisfied: six>=1.5 in c:\\users\\anano\\anaconda3\\lib\\site-packages (from python-dateutil>=2.8.2->pandas) (1.16.0)\n",
      "Note: you may need to restart the kernel to use updated packages.\n"
     ]
    }
   ],
   "source": [
    "#pip install pandas xlrd"
   ]
  },
  {
   "cell_type": "code",
   "execution_count": 1,
   "metadata": {},
   "outputs": [],
   "source": [
    "# configuration: show all columns\n",
    "import pandas as pd\n",
    "from functions import *\n",
    "\n",
    "df_sharkattack= pd.read_excel('https://www.sharkattackfile.net/spreadsheets/GSAF5.xls')"
   ]
  },
  {
   "cell_type": "markdown",
   "metadata": {},
   "source": [
    "Start of the cleaning process:\n",
    "We remove the rows (variables) and columns (data according to date) that we will not need for the analysis of our project.\n",
    "As this is a project to sell anti-shark attack bracelets, we do not consider it necessary to have data from past centuries, \n",
    "We need to have a trend of the data to be able to analyze it, for this reason and for having a considerable amount of data.\n",
    "We have decided to keep the data from the 60's onwards, we could keep the data from 1900, but they do not provide a \n",
    "great value to the analysis and furthermore, they are quite incomplete."
   ]
  },
  {
   "cell_type": "code",
   "execution_count": 2,
   "metadata": {},
   "outputs": [],
   "source": [
    "df_sharkattack = clean_labels(df_sharkattack)\n",
    "df_sharkattack = clean_rows(df_sharkattack)\n"
   ]
  },
  {
   "cell_type": "markdown",
   "metadata": {},
   "source": [
    "Next, we will remove the columns that are not necessary for our analysis:\n",
    "\n",
    "First, let's check and remove the columns that are made up of null values ​​in the vast majority.\n",
    "Secondly, we are going to remove the columns from the variables type, name, injury, time, source that we do not need for our analysis as we have data that we do not see that influences sales"
   ]
  },
  {
   "cell_type": "code",
   "execution_count": 3,
   "metadata": {},
   "outputs": [],
   "source": [
    "df_sharkattack = clean_country(df_sharkattack, 15)\n",
    "df_sharkattack = clean_state(df_sharkattack, 12)\n",
    "df_sharkattack = clean_sex(df_sharkattack, 'sex')"
   ]
  },
  {
   "cell_type": "code",
   "execution_count": 12,
   "metadata": {},
   "outputs": [
    {
     "data": {
      "text/plain": [
       "year          27\n",
       "country       75\n",
       "state        507\n",
       "location     590\n",
       "activity     611\n",
       "sex          604\n",
       "age         3019\n",
       "death        587\n",
       "dtype: int64"
      ]
     },
     "execution_count": 12,
     "metadata": {},
     "output_type": "execute_result"
    }
   ],
   "source": [
    "# show results\n",
    "df_sharkattack.isnull().sum()"
   ]
  },
  {
   "cell_type": "code",
   "execution_count": 4,
   "metadata": {},
   "outputs": [
    {
     "data": {
      "text/plain": [
       "year           1\n",
       "country        0\n",
       "state          0\n",
       "location      90\n",
       "activity     351\n",
       "sex          344\n",
       "age         1793\n",
       "death        389\n",
       "dtype: int64"
      ]
     },
     "execution_count": 4,
     "metadata": {},
     "output_type": "execute_result"
    }
   ],
   "source": [
    "df_sharkattack.isnull().sum()"
   ]
  },
  {
   "cell_type": "code",
   "execution_count": null,
   "metadata": {},
   "outputs": [],
   "source": []
  }
 ],
 "metadata": {
  "kernelspec": {
   "display_name": "base",
   "language": "python",
   "name": "python3"
  },
  "language_info": {
   "codemirror_mode": {
    "name": "ipython",
    "version": 3
   },
   "file_extension": ".py",
   "mimetype": "text/x-python",
   "name": "python",
   "nbconvert_exporter": "python",
   "pygments_lexer": "ipython3",
   "version": "3.12.4"
  }
 },
 "nbformat": 4,
 "nbformat_minor": 2
}
