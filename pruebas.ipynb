{
 "cells": [
  {
   "cell_type": "code",
   "execution_count": 229,
   "metadata": {},
   "outputs": [
    {
     "name": "stdout",
     "output_type": "stream",
     "text": [
      "          Date    Year        Type    Country              State  \\\n",
      "0  15 Mar 2024  2024.0  Unprovoked  AUSTRALIA         Queensland   \n",
      "1  04 Mar 2024  2024.0  Unprovoked        USA             Hawaii   \n",
      "2  02 Mar-2024  2024.0  Unprovoked        USA             Hawaii   \n",
      "3  25 Feb-2024  2024.0  Unprovoked  AUSTRALIA  Western Australia   \n",
      "4  14 Feb-2024  2024.0  Unprovoked      INDIA        Maharashtra   \n",
      "\n",
      "                           Location  Activity                 Name Sex  Age  \\\n",
      "0                     Bargara Beach  Swimming       Brooklyn Sauer   F   13   \n",
      "1                Old Man's, Waikiki   Surfing        Matthew White   M  NaN   \n",
      "2                    Rainbows, Oahu  Swimming                  NaN   F   11   \n",
      "3        Sandlnd Island, Jurian Bay       NaN               female   F   46   \n",
      "4  Vaitarna River, Palghar District   Fishing  Vicky Suresh Govari   M   32   \n",
      "\n",
      "                                     Injury Unnamed: 11   Time  \\\n",
      "0  Minor injuries to back, abdomen and legs         NaN  16h00   \n",
      "1            No injury, shark bit surfboard           N    NaN   \n",
      "2                  Lacerations to left foot           N  13h30   \n",
      "3                                Leg bitten           N  11h30   \n",
      "4            Calf of lower left leg injured           N    NaN   \n",
      "\n",
      "         Species                      Source  \n",
      "0     Tiger shark      Yahoo News, 3/15/2024  \n",
      "1  Tiger shark 8'          Surfer, 3/6/2024F  \n",
      "2  3' to 4' shark  Hawaii News Now, 3/4/2024  \n",
      "3     Tiger shark        WA Today, 2/26/2024  \n",
      "4  Bull shark, 7'  Times of India, 2/14/2024  \n"
     ]
    }
   ],
   "source": [
    "import pandas as pd\n",
    "# Ruta al archivo .xls\n",
    "archivo_xls = 'https://www.sharkattackfile.net/spreadsheets/GSAF5.xls'\n",
    "\n",
    "# Leer el archivo .xls\n",
    "df = pd.read_excel(archivo_xls)\n",
    "\n",
    "df = df.drop(columns=['pdf', 'href formula', 'href', 'Case Number', 'Case Number.1','original order', 'Unnamed: 21', 'Unnamed: 22'], axis=1)\n",
    "\n",
    "# Mostrar las primeras filas del DataFrame\n",
    "print(df.head())"
   ]
  },
  {
   "cell_type": "code",
   "execution_count": 230,
   "metadata": {},
   "outputs": [
    {
     "data": {
      "text/plain": [
       "(6969, 15)"
      ]
     },
     "execution_count": 230,
     "metadata": {},
     "output_type": "execute_result"
    }
   ],
   "source": [
    "df.shape"
   ]
  },
  {
   "cell_type": "code",
   "execution_count": 231,
   "metadata": {},
   "outputs": [
    {
     "name": "stdout",
     "output_type": "stream",
     "text": [
      "          Date    Year    Country              State  \\\n",
      "0  15 Mar 2024  2024.0  AUSTRALIA         Queensland   \n",
      "1  04 Mar 2024  2024.0        USA             Hawaii   \n",
      "2  02 Mar-2024  2024.0        USA             Hawaii   \n",
      "3  25 Feb-2024  2024.0  AUSTRALIA  Western Australia   \n",
      "4  14 Feb-2024  2024.0      INDIA        Maharashtra   \n",
      "\n",
      "                           Location  Activity Sex  Age Unnamed: 11  \\\n",
      "0                     Bargara Beach  Swimming   F   13         NaN   \n",
      "1                Old Man's, Waikiki   Surfing   M  NaN           N   \n",
      "2                    Rainbows, Oahu  Swimming   F   11           N   \n",
      "3        Sandlnd Island, Jurian Bay       NaN   F   46           N   \n",
      "4  Vaitarna River, Palghar District   Fishing   M   32           N   \n",
      "\n",
      "         Species   \n",
      "0     Tiger shark  \n",
      "1  Tiger shark 8'  \n",
      "2  3' to 4' shark  \n",
      "3     Tiger shark  \n",
      "4  Bull shark, 7'  \n"
     ]
    }
   ],
   "source": [
    "delete = ['Type', 'Name', 'Injury', 'Time', 'Source']\n",
    "\n",
    "df = df.drop(columns=delete, axis=1)\n",
    "\n",
    "# Mostrar las primeras filas del DataFrame\n",
    "print(df.head())"
   ]
  },
  {
   "cell_type": "code",
   "execution_count": 232,
   "metadata": {},
   "outputs": [],
   "source": [
    "df = df.loc[:4403]"
   ]
  },
  {
   "cell_type": "code",
   "execution_count": 233,
   "metadata": {},
   "outputs": [
    {
     "data": {
      "text/plain": [
       "(4404, 10)"
      ]
     },
     "execution_count": 233,
     "metadata": {},
     "output_type": "execute_result"
    }
   ],
   "source": [
    "df.shape"
   ]
  },
  {
   "cell_type": "code",
   "execution_count": 234,
   "metadata": {},
   "outputs": [
    {
     "data": {
      "text/plain": [
       "Index(['Date', 'Year', 'Country', 'State', 'Location', 'Activity', 'Sex',\n",
       "       'Age', 'Unnamed: 11', 'Species '],\n",
       "      dtype='object')"
      ]
     },
     "execution_count": 234,
     "metadata": {},
     "output_type": "execute_result"
    }
   ],
   "source": [
    "df.keys()"
   ]
  },
  {
   "cell_type": "code",
   "execution_count": 235,
   "metadata": {},
   "outputs": [
    {
     "data": {
      "text/plain": [
       "Country\n",
       "USA                               1994\n",
       "AUSTRALIA                          781\n",
       "SOUTH AFRICA                       421\n",
       "BAHAMAS                            118\n",
       "BRAZIL                             113\n",
       "                                  ... \n",
       "HONDURAS                             1\n",
       "COMOROS                              1\n",
       "KIRIBATI                             1\n",
       "URUGUAY                              1\n",
       "FEDERATED STATES OF MICRONESIA       1\n",
       "Name: count, Length: 145, dtype: int64"
      ]
     },
     "execution_count": 235,
     "metadata": {},
     "output_type": "execute_result"
    }
   ],
   "source": [
    "df['Country'].value_counts()"
   ]
  },
  {
   "cell_type": "code",
   "execution_count": 236,
   "metadata": {},
   "outputs": [
    {
     "data": {
      "text/plain": [
       "Country\n",
       "USA                 1994\n",
       "AUSTRALIA            781\n",
       "SOUTH AFRICA         421\n",
       "BAHAMAS              118\n",
       "BRAZIL               113\n",
       "NEW ZEALAND           86\n",
       "MEXICO                63\n",
       "NEW CALEDONIA         57\n",
       "REUNION               56\n",
       "PAPUA NEW GUINEA      45\n",
       "EGYPT                 38\n",
       "FIJI                  37\n",
       "FRENCH POLYNESIA      32\n",
       "MOZAMBIQUE            28\n",
       "ITALY                 27\n",
       "JAPAN                 23\n",
       "SPAIN                 23\n",
       "PHILIPPINES           23\n",
       "HONG KONG             21\n",
       "Name: count, dtype: int64"
      ]
     },
     "execution_count": 236,
     "metadata": {},
     "output_type": "execute_result"
    }
   ],
   "source": [
    "# We can delete the contries that have less than 13 attack\n",
    "def delete_country(df):\n",
    "    df = df[df['Country'].map(df['Country'].value_counts()) > 12]\n",
    "    return df\n",
    "\n",
    "df = delete_country(df)\n",
    "\n",
    "df['Country'].value_counts()"
   ]
  },
  {
   "cell_type": "code",
   "execution_count": 237,
   "metadata": {},
   "outputs": [
    {
     "data": {
      "text/plain": [
       "(19,)"
      ]
     },
     "execution_count": 237,
     "metadata": {},
     "output_type": "execute_result"
    }
   ],
   "source": [
    "df['Country'].value_counts().shape"
   ]
  },
  {
   "cell_type": "code",
   "execution_count": 238,
   "metadata": {},
   "outputs": [
    {
     "data": {
      "text/plain": [
       "State\n",
       "Florida                    1038\n",
       "Hawaii                      260\n",
       "New South Wales             257\n",
       "California                  249\n",
       "Queensland                  180\n",
       "                           ... \n",
       "Western  Australia            1\n",
       "Northern Bahamas              1\n",
       "Tokyo Bay                     1\n",
       "Samoa                         1\n",
       "Lomaiviti  Island Group       1\n",
       "Name: count, Length: 300, dtype: int64"
      ]
     },
     "execution_count": 238,
     "metadata": {},
     "output_type": "execute_result"
    }
   ],
   "source": [
    "df['State'].value_counts()"
   ]
  },
  {
   "cell_type": "code",
   "execution_count": 239,
   "metadata": {},
   "outputs": [
    {
     "name": "stdout",
     "output_type": "stream",
     "text": [
      "(22,)\n"
     ]
    },
    {
     "data": {
      "text/plain": [
       "State\n",
       "Florida                  1038\n",
       "Hawaii                    260\n",
       "New South Wales           257\n",
       "California                249\n",
       "Queensland                180\n",
       "Western Australia         172\n",
       "Western Cape Province     148\n",
       "Eastern Cape Province     133\n",
       "KwaZulu-Natal             127\n",
       "South Carolina            123\n",
       "North Carolina             97\n",
       "Pernambuco                 79\n",
       "South Australia            69\n",
       "Texas                      55\n",
       "Victoria                   50\n",
       "North Island               41\n",
       "Oregon                     31\n",
       "South Island               29\n",
       "Abaco Islands              27\n",
       "Tasmania                   22\n",
       "New York                   19\n",
       "South Province             16\n",
       "Name: count, dtype: int64"
      ]
     },
     "execution_count": 239,
     "metadata": {},
     "output_type": "execute_result"
    }
   ],
   "source": [
    "# We can delete the states that have less than 16 attack\n",
    "copy = df.copy()\n",
    "def delete_state(df):\n",
    "    df = df[df['State'].map(df['State'].value_counts()) > 15]\n",
    "    return df\n",
    "\n",
    "df = delete_state(df)\n",
    "print(df['State'].value_counts().shape)\n",
    "\n",
    "df['State'].value_counts()"
   ]
  },
  {
   "cell_type": "code",
   "execution_count": 240,
   "metadata": {},
   "outputs": [
    {
     "data": {
      "text/plain": [
       "(3222, 10)"
      ]
     },
     "execution_count": 240,
     "metadata": {},
     "output_type": "execute_result"
    }
   ],
   "source": [
    "df.shape"
   ]
  },
  {
   "cell_type": "code",
   "execution_count": 223,
   "metadata": {},
   "outputs": [
    {
     "data": {
      "text/plain": [
       "Location\n",
       "New Smyrna Beach, Volusia County                  190\n",
       "Daytona Beach, Volusia County                      29\n",
       "Ponce Inlet, Volusia County                        28\n",
       "Myrtle Beach, Horry County                         22\n",
       "Melbourne Beach, Brevard County                    20\n",
       "                                                 ... \n",
       "Cottesloe Beach                                     1\n",
       "Seaside                                             1\n",
       "Cape Canaveral                                      1\n",
       "Elwood Beach                                        1\n",
       "Shark tank at Oceanographic Research Institute      1\n",
       "Name: count, Length: 2104, dtype: int64"
      ]
     },
     "execution_count": 223,
     "metadata": {},
     "output_type": "execute_result"
    }
   ],
   "source": [
    "df['Location'].value_counts()"
   ]
  },
  {
   "cell_type": "code",
   "execution_count": 244,
   "metadata": {},
   "outputs": [
    {
     "name": "stdout",
     "output_type": "stream",
     "text": [
      "(25,)\n"
     ]
    },
    {
     "data": {
      "text/plain": [
       "Location\n",
       "new smyrna beach, volusia county                   188\n",
       "boa viagem, recife                                  37\n",
       "daytona beach, volusia county                       29\n",
       "ponce inlet, volusia county                         27\n",
       "myrtle beach, horry county                          22\n",
       "melbourne beach, brevard county                     20\n",
       "cocoa beach, brevard  county                        18\n",
       "isle of palms, charleston county                    14\n",
       "cocoa beach, brevard county                         13\n",
       "ponce inlet, new smyrna beach, volusia county       12\n",
       "jacksonville beach, duval county                    12\n",
       "piedade                                             12\n",
       "juno beach, palm beach county                       10\n",
       "mossel bay                                          10\n",
       "singer island, riviera beach, palm beach county     10\n",
       "ormond beach, volusia county                        10\n",
       "boa viagem beach, recife                             9\n",
       "nahoon                                               9\n",
       "palm beach, palm beach county                        9\n",
       "florida keys, monroe county                          9\n",
       "daytona beach shores, volusia county                 8\n",
       "nahoon, east london                                  8\n",
       "vero beach, indian river county                      8\n",
       "sanibel island, lee county                           7\n",
       "fort lauderdale, broward county                      7\n",
       "Name: count, dtype: int64"
      ]
     },
     "execution_count": 244,
     "metadata": {},
     "output_type": "execute_result"
    }
   ],
   "source": [
    "# We can delete the location that have less than 13 attack\n",
    "#copy = df.copy()\n",
    "def delete_location(df):\n",
    "    df = df[df['Location'].map(df['Location'].value_counts()) > 6]\n",
    "    return df\n",
    "\n",
    "df = delete_location(df)\n",
    "print(df['Location'].value_counts().shape)\n",
    "\n",
    "df['Location'].value_counts()"
   ]
  },
  {
   "cell_type": "code",
   "execution_count": 136,
   "metadata": {},
   "outputs": [],
   "source": [
    "import re"
   ]
  },
  {
   "cell_type": "code",
   "execution_count": 137,
   "metadata": {},
   "outputs": [
    {
     "data": {
      "text/plain": [
       "Date            object\n",
       "Year           float64\n",
       "Country         object\n",
       "State           object\n",
       "Location        object\n",
       "Activity        object\n",
       "Sex             object\n",
       "Age             object\n",
       "Unnamed: 11     object\n",
       "Species         object\n",
       "dtype: object"
      ]
     },
     "execution_count": 137,
     "metadata": {},
     "output_type": "execute_result"
    }
   ],
   "source": [
    "df.dtypes"
   ]
  },
  {
   "cell_type": "code",
   "execution_count": 245,
   "metadata": {},
   "outputs": [
    {
     "name": "stdout",
     "output_type": "stream",
     "text": [
      "boa viagem, recife\n",
      "boa viagem, recife\n",
      "boa viagem, recife\n",
      "boa viagem, recife\n",
      "boa viagem, recife\n",
      "boa viagem, recife\n",
      "boa viagem, recife\n",
      "boa viagem, recife\n",
      "boa viagem, recife\n",
      "boa viagem, recife\n",
      "boa viagem, recife\n",
      "boa viagem, recife\n",
      "boa viagem beach, recife\n",
      "boa viagem, recife\n",
      "boa viagem beach, recife\n",
      "boa viagem, recife\n",
      "boa viagem beach, recife\n",
      "boa viagem, recife\n",
      "boa viagem beach, recife\n",
      "boa viagem, recife\n",
      "boa viagem beach, recife\n",
      "boa viagem, recife\n",
      "boa viagem beach, recife\n",
      "boa viagem, recife\n",
      "boa viagem beach, recife\n",
      "boa viagem, recife\n",
      "boa viagem beach, recife\n",
      "boa viagem, recife\n",
      "boa viagem beach, recife\n",
      "boa viagem, recife\n",
      "boa viagem, recife\n",
      "boa viagem, recife\n",
      "boa viagem, recife\n",
      "boa viagem, recife\n",
      "boa viagem, recife\n",
      "boa viagem, recife\n",
      "boa viagem, recife\n",
      "boa viagem, recife\n",
      "boa viagem, recife\n",
      "boa viagem, recife\n",
      "boa viagem, recife\n",
      "boa viagem, recife\n",
      "boa viagem, recife\n",
      "boa viagem, recife\n",
      "boa viagem, recife\n",
      "boa viagem, recife\n",
      "boa viagem, recife\n",
      "boa viagem, recife\n",
      "boa viagem, recife\n",
      "boa viagem, recife\n",
      "boa viagem, recife\n",
      "boa viagem, recife\n",
      "boa viagem, recife\n",
      "boa viagem, recife\n",
      "boa viagem, recife\n",
      "boa viagem, recife\n",
      "boa viagem, recife\n",
      "boa viagem, recife\n",
      "boa viagem, recife\n",
      "boa viagem, recife\n",
      "boa viagem, recife\n",
      "boa viagem, recife\n",
      "boa viagem, recife\n",
      "boa viagem, recife\n",
      "boa viagem, recife\n",
      "boa viagem, recife\n",
      "boa viagem, recife\n",
      "boa viagem, recife\n",
      "boa viagem, recife\n",
      "boa viagem, recife\n",
      "boa viagem, recife\n",
      "boa viagem, recife\n",
      "boa viagem, recife\n",
      "boa viagem, recife\n",
      "boa viagem, recife\n",
      "boa viagem, recife\n",
      "boa viagem, recife\n",
      "boa viagem, recife\n",
      "boa viagem, recife\n",
      "boa viagem, recife\n",
      "boa viagem, recife\n",
      "boa viagem, recife\n",
      "boa viagem, recife\n",
      "boa viagem, recife\n",
      "boa viagem, recife\n",
      "boa viagem, recife\n",
      "boa viagem, recife\n",
      "boa viagem, recife\n",
      "boa viagem, recife\n",
      "boa viagem, recife\n",
      "boa viagem, recife\n",
      "boa viagem, recife\n"
     ]
    }
   ],
   "source": [
    "copy = pd.read_excel(archivo_xls) \n",
    "df['Location'] = df['Location'].str.lower().str.strip()#.replace(\" \", \"_\")\n",
    "\n",
    "def correct_name_location(column, patter, sub, df):\n",
    "    item = 0\n",
    "    for i in column:\n",
    "        if type(i) == str:\n",
    "            matching = re.findall(patter, i)\n",
    "            #print(matching)\n",
    "            if len(matching) >= 3:\n",
    "                print(i)\n",
    "                #df[sub][item].replace(i, 'boa viagem, recife')\n",
    "                df.loc[item, sub] = 'boa viagem, recife'\n",
    "                print(df[sub][item])\n",
    "        item +=1\n",
    "    return df\n",
    "\n",
    "patter = r\"\\b(boa|viagem|recife)\\b\"\n",
    "df = correct_name_location(df['Location'], patter, 'Location', df)\n",
    "\n"
   ]
  },
  {
   "cell_type": "code",
   "execution_count": 243,
   "metadata": {},
   "outputs": [
    {
     "data": {
      "text/plain": [
       "Location\n",
       "new smyrna beach, volusia county                   188\n",
       "boa viagem, recife                                  37\n",
       "daytona beach, volusia county                       29\n",
       "ponce inlet, volusia county                         27\n",
       "myrtle beach, horry county                          22\n",
       "melbourne beach, brevard county                     20\n",
       "cocoa beach, brevard  county                        18\n",
       "isle of palms, charleston county                    14\n",
       "cocoa beach, brevard county                         13\n",
       "jacksonville beach, duval county                    12\n",
       "piedade                                             12\n",
       "ponce inlet, new smyrna beach, volusia county       12\n",
       "juno beach, palm beach county                       10\n",
       "mossel bay                                          10\n",
       "singer island, riviera beach, palm beach county     10\n",
       "ormond beach, volusia county                        10\n",
       "boa viagem beach, recife                             9\n",
       "nahoon                                               9\n",
       "palm beach, palm beach county                        9\n",
       "florida keys, monroe county                          9\n",
       "vero beach, indian river county                      8\n",
       "daytona beach shores, volusia county                 8\n",
       "nahoon, east london                                  8\n",
       "sanibel island, lee county                           7\n",
       "fort lauderdale, broward county                      7\n",
       "florida keys                                         6\n",
       "Name: count, dtype: int64"
      ]
     },
     "execution_count": 243,
     "metadata": {},
     "output_type": "execute_result"
    }
   ],
   "source": [
    "df['Location'].value_counts()"
   ]
  },
  {
   "cell_type": "code",
   "execution_count": null,
   "metadata": {},
   "outputs": [],
   "source": []
  }
 ],
 "metadata": {
  "kernelspec": {
   "display_name": "Python 3",
   "language": "python",
   "name": "python3"
  },
  "language_info": {
   "codemirror_mode": {
    "name": "ipython",
    "version": 3
   },
   "file_extension": ".py",
   "mimetype": "text/x-python",
   "name": "python",
   "nbconvert_exporter": "python",
   "pygments_lexer": "ipython3",
   "version": "3.12.4"
  }
 },
 "nbformat": 4,
 "nbformat_minor": 2
}
